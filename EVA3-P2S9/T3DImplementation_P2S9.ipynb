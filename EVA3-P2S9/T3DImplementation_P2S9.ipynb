{
  "nbformat": 4,
  "nbformat_minor": 0,
  "metadata": {
    "colab": {
      "name": "T3DImplementation_P2S9.ipynb",
      "provenance": [],
      "collapsed_sections": []
    },
    "kernelspec": {
      "name": "python3",
      "display_name": "Python 3"
    }
  },
  "cells": [
    {
      "cell_type": "markdown",
      "metadata": {
        "id": "view-in-github",
        "colab_type": "text"
      },
      "source": [
        "<a href=\"https://colab.research.google.com/github/sudhakarmlal/EVA/blob/master/Phase2/Session9/T3DImplementation.ipynb\" target=\"_parent\"><img src=\"https://colab.research.google.com/assets/colab-badge.svg\" alt=\"Open In Colab\"/></a>"
      ]
    },
    {
      "cell_type": "code",
      "metadata": {
        "id": "I4Nnbkf0QaCL",
        "colab_type": "code",
        "colab": {}
      },
      "source": [
        "import os\n",
        "import time\n",
        "import random\n",
        "import numpy as np\n",
        "import matplotlib.pyplot as plt\n",
        "import pybullet_envs\n",
        "import gym\n",
        "import torch\n",
        "import torch.nn as nn\n",
        "import torch.nn.functional as F\n",
        "from gym import wrappers\n",
        "from torch.autograd import Variable\n",
        "from collections import deque"
      ],
      "execution_count": 0,
      "outputs": []
    },
    {
      "cell_type": "markdown",
      "metadata": {
        "id": "_2AdaATVRAEi",
        "colab_type": "text"
      },
      "source": [
        "**STEP1**"
      ]
    },
    {
      "cell_type": "code",
      "metadata": {
        "id": "hGPGX1f6Q9_5",
        "colab_type": "code",
        "colab": {}
      },
      "source": [
        "class ReplayBuffer(object):\n",
        "  def _init_(self,max_size=1e6):\n",
        "    self.storage = []\n",
        "    self.max_size = max_size\n",
        "    self.ptr  = 0\n",
        "\n",
        "  def add(self,transition):\n",
        "    if len(self.storage) == self.max_size:\n",
        "      self.storage[int(self.prt)] = transition.\n",
        "      self.ptr = (self.ptr +1) % self.max_size\n",
        "    else:\n",
        "      self.storage.append(transition)\n",
        "\n",
        "  def sample(self,batch_size):\n",
        "    ind = np.random.randint(0,len(self.storage),batch_size)\n",
        "    batch_states,batch_next_states,batch_actions,batch_rewards, \\\n",
        "        batch_dones = [],[],[],[]\n",
        "    for i in ind:\n",
        "      state,next_state,action,reward,done = self.storage[i]\n",
        "      batch_states.append(np.array(state,copy=False))\n",
        "      bat_next_states.append(np.array(next_state,copy=False))\n",
        "      bat_actions.append(np.array(action,copy=False))\n",
        "      bat_rewards.append(np.array(reward,copy=False))\n",
        "      bat_dones.append(np.array(done,copy=False))\n",
        "    return np.array(batch_states) ,np.array(batch_next_states), \\\n",
        "         np.array(batch_actions) ,np.array(batch_rewards).reshape(-1,1), \\\n",
        "              np.array(batch_dones).reshape(-1,1)\n",
        "\n"
      ],
      "execution_count": 0,
      "outputs": []
    },
    {
      "cell_type": "markdown",
      "metadata": {
        "id": "mMfoosbUUuAH",
        "colab_type": "text"
      },
      "source": [
        "**STEP2**"
      ]
    },
    {
      "cell_type": "code",
      "metadata": {
        "id": "MZAkHnCjTi64",
        "colab_type": "code",
        "colab": {}
      },
      "source": [
        "class Actor(nn.Module):\n",
        "  def __init__(self,state_dims,action_dim,max_action):\n",
        "    #max_action is to clip in case  we added  too much  noise\n",
        "    super(Actor,self).__init__() # activate  the inheritance\n",
        "    self.layer_1 = nn.Linear(state_dims,400)\n",
        "    self.layer_2 = nn.Linear(400,300)\n",
        "    self.layer_3 = nn.Linear(300,action_dim)\n",
        "    self.max_action = max_action\n",
        "\n",
        "  def forward(self,x):\n",
        "    x = F.relu(self.layer_1(x))\n",
        "    x = F.relu(self.layer_2(x))\n",
        "    x = self.max_action * torch.tanh(self.layer_3(x))\n",
        "    return x       "
      ],
      "execution_count": 0,
      "outputs": []
    },
    {
      "cell_type": "markdown",
      "metadata": {
        "id": "5u4eWuZZUyIB",
        "colab_type": "text"
      },
      "source": [
        "**STEP3**"
      ]
    },
    {
      "cell_type": "code",
      "metadata": {
        "id": "N40vXARiU121",
        "colab_type": "code",
        "colab": {}
      },
      "source": [
        "class Critic(nn.Module):\n",
        "  def __init__(self,state_dims,action_dim):\n",
        "    #max_action is to clip in case we added too much noise\n",
        "    super(Criti,self).__init__()\n",
        "    #First Critic Network\n",
        "    self.layer_1 = nn.Linear(state_dims+action_dim,400)\n",
        "    self.layer_2 = nn.Linear(400,300)\n",
        "    self.layer_3 = nn.Linear(300,action_dim)\n",
        "\n",
        "    #Second Critic Network\n",
        "    self.layer_4 = nn.Linear(state_dims+action_dim,400)\n",
        "    self.layer_5 = nn.Linear(400,300)\n",
        "    self.layer_6 = nn.Linear(300,action_dim)\n",
        "\n",
        "  def forward(self,x,u):\n",
        "    xu = torch.cat([x,u],1) # 1 for vertical concatenation, 0 for Hzntl\n",
        "    # forward propagation on first ritic\n",
        "    x = F.relu(self.layer_1(xu))\n",
        "    x = F.relu(self.layer_2(x1))\n",
        "    x1 = self.layer_3(x1)\n",
        "    # forward propagation on second Critic\n",
        "    x2 = F.relu(self.layer_4(xu))\n",
        "    x2 = F.relu(self.layer_5(x2))\n",
        "    x2 = self.layer_6(x2)\n",
        "    \n",
        "    return x1,x2   \n",
        "\n",
        "  def Q1(self,x,u):  #x - state, u=  action This is used for updating the Q values\n",
        "     xu = torch.cat([x,u],1) # 1 for vertical concatenation, 0 for Hzntl\n",
        "     x = F.relu(self.layer_1(xu))\n",
        "     x = F.relu(self.layer_2(x1))\n",
        "     x1 = self.layer_3(x1)\n",
        "     return x1 \n"
      ],
      "execution_count": 0,
      "outputs": []
    },
    {
      "cell_type": "markdown",
      "metadata": {
        "id": "O6uof8pGgn40",
        "colab_type": "text"
      },
      "source": [
        "**STEP 4-15**"
      ]
    },
    {
      "cell_type": "code",
      "metadata": {
        "id": "yxFAi7u0g1Rv",
        "colab_type": "code",
        "colab": {}
      },
      "source": [
        "#Selecting the device (CPU or GPU)\n",
        "device = torch.device('cuda' if torch.cuda.is_available() else 'cpu')\n",
        "\n",
        "# Buidling the whole Training Process into a class\n",
        "\n",
        "\n",
        "class T3D(object):\n",
        "  def __int__(self,state_dims,action_dim,max_action):\n",
        "    #making sure our T3D class can work with any env\n",
        "    self.actor = Actor(state_dims,action_dim,max_action).to(device) #GD\n",
        "    self.actor_target = Actor(state_dims,action_dim,max_action).to(device) #Polyak Avg\n",
        "    self.actor_target.load_state_dict(self.actor.state_dict)\n",
        "    #intializing with model weights to keep them same\n",
        "    self.actor_optimizer = torch.optim.Adam(self.actor.parameters())\n",
        "\n",
        "    self.critic = Actor(state_dims,action_dim).to(device) #GD\n",
        "    self.critic_target = critic(state_dims,action_dim).to(device) #Polyak Avg\n",
        "    self.critic_target.load_state_dict(self.critic.state_dict)\n",
        "    #intializing with model weights to keep them same\n",
        "    self.critic_optimizer = torch.optim.Adam(self.critic.parameters())\n",
        "    self.max_action = max_action\n",
        "\n",
        "   def selfect_action(self,state):\n",
        "     state = torch.Tensor(state.reshape(1,-1)).to(device)\n",
        "     return self.actor(state).cpu().data.numpy().flatten()\n",
        "     # need to convert to numpy,remember clipping?\n",
        "   \n",
        "   def train     \n",
        "\n"
      ],
      "execution_count": 0,
      "outputs": []
    },
    {
      "cell_type": "markdown",
      "metadata": {
        "id": "lKe9pdoMWwMo",
        "colab_type": "text"
      },
      "source": [
        "**STEP4**"
      ]
    },
    {
      "cell_type": "code",
      "metadata": {
        "id": "HnG7hyQCW3E4",
        "colab_type": "code",
        "colab": {}
      },
      "source": [
        "def train(self,replay_buffer,iterations,batch_size=100,discount=0.99,\n",
        "          tau=0.005,policy_noise=0.2,noise_clip=0.5,policy_freq=2):\n",
        "  for it in range(iterations):\n",
        "    #Step 4 we sample from a batch of transitions (s,s',a,r) from memory\n",
        "    batch_states,batch_next_states,batch_actions,batch_rewards,batch_dones \\\n",
        "       = replay_buffer.sample(batch_size)\n",
        "    state = torch.Tensor(batch_states).to(device)\n",
        "    next_state = torch.Tensor(batch_next_states).to(device)\n",
        "    action = torch.Tensor(batch_actions).to(device)\n",
        "    reward = torch.Tensor(batch_rewards).to(device)\n",
        "    done =   torch.Tensor(batch_dones).to(device)"
      ],
      "execution_count": 0,
      "outputs": []
    },
    {
      "cell_type": "markdown",
      "metadata": {
        "id": "lNdH-ugVY53N",
        "colab_type": "text"
      },
      "source": [
        "**STEP5**"
      ]
    },
    {
      "cell_type": "code",
      "metadata": {
        "id": "9h9MxICRY_mY",
        "colab_type": "code",
        "colab": {}
      },
      "source": [
        "# Step 5: From the next state s',the Actor target plays the next action a'\n",
        "next_action = self.actor_target.forward(next_state)"
      ],
      "execution_count": 0,
      "outputs": []
    },
    {
      "cell_type": "markdown",
      "metadata": {
        "id": "VPrqs8NLZWpf",
        "colab_type": "text"
      },
      "source": [
        "**STEP6**"
      ]
    },
    {
      "cell_type": "code",
      "metadata": {
        "id": "0oGw5PUpZanC",
        "colab_type": "code",
        "colab": {}
      },
      "source": [
        "#Step 6: We add Gaussian noise to the next action a' and we clamp it in a \n",
        "# range of values supported by the environment\n",
        "noise = torch.Tensor(batch_actions).data.normal_(0,policy_noise).to(device)\n",
        "noise = noise.clamp(-noise_clip,noise_clip)\n",
        "next_action = (next_action + noise).clamp(-self.max_action,self.max_action)\n",
        "\n"
      ],
      "execution_count": 0,
      "outputs": []
    },
    {
      "cell_type": "markdown",
      "metadata": {
        "id": "VmlTzxbFal9R",
        "colab_type": "text"
      },
      "source": [
        "**STEP7**"
      ]
    },
    {
      "cell_type": "code",
      "metadata": {
        "id": "EZ5kU9E5ao7c",
        "colab_type": "code",
        "colab": {}
      },
      "source": [
        "# Step 7: The two Critic targets take each the couple (s',a') as input and\n",
        "# return two Q values,Qt1(s',a')\n",
        "target_Q1,target_Q2 = self.critic_target.foward(next_state,next_action)"
      ],
      "execution_count": 0,
      "outputs": []
    },
    {
      "cell_type": "markdown",
      "metadata": {
        "id": "2WhjYyr4bO-R",
        "colab_type": "text"
      },
      "source": [
        "**STEP8**"
      ]
    },
    {
      "cell_type": "code",
      "metadata": {
        "id": "mWpPLwz1bSiY",
        "colab_type": "code",
        "colab": {}
      },
      "source": [
        "# Step 8: We keep the minimum of  the two Q-Values\n",
        "target_Q = torch.min(target_Q1,target_Q2)"
      ],
      "execution_count": 0,
      "outputs": []
    },
    {
      "cell_type": "markdown",
      "metadata": {
        "id": "QhYUDP0FbiCA",
        "colab_type": "text"
      },
      "source": [
        "**STEP9**"
      ]
    },
    {
      "cell_type": "code",
      "metadata": {
        "id": "zDDZgKTPbkLK",
        "colab_type": "code",
        "colab": {}
      },
      "source": [
        "# Step 9: We get the final target of the  two Critic model,which is:\n",
        "# Qt = r + gamma* min(Qt1,Qt2)\n",
        "#target_Q = reward +(1-done) * discount * target_Q\n",
        "#0 = episode not over,1 = episode over\n",
        "# We can't run the above equation efficiently as some components are in Computational\n",
        "# graphs and some are not.We need to make one minor modification\n",
        "\n",
        "target_Q = reward + ((1-done)*discount*target_Q).detach()\n"
      ],
      "execution_count": 0,
      "outputs": []
    },
    {
      "cell_type": "markdown",
      "metadata": {
        "id": "Vr6B3i8QcZpr",
        "colab_type": "text"
      },
      "source": [
        "**STEP10**"
      ]
    },
    {
      "cell_type": "code",
      "metadata": {
        "id": "ZtvFTzEicbng",
        "colab_type": "code",
        "colab": {}
      },
      "source": [
        "#Step 10: The two critic models take  each  the couple (s,a),\n",
        "#as input and return two Q values\n",
        "current_Q1,current_Q2 = self.critic.forward(state,action)"
      ],
      "execution_count": 0,
      "outputs": []
    },
    {
      "cell_type": "markdown",
      "metadata": {
        "id": "FY-KETbVcsD8",
        "colab_type": "text"
      },
      "source": [
        "**STEP11**"
      ]
    },
    {
      "cell_type": "code",
      "metadata": {
        "id": "SXeqADrhcuYg",
        "colab_type": "code",
        "colab": {}
      },
      "source": [
        "#Step 11: We compute the loss coming from the  two Critic models\n",
        "critic_loss - F.mse_loss(current_Q1,target_Q) + F.mse_loss(current_Q2,target_Q)"
      ],
      "execution_count": 0,
      "outputs": []
    },
    {
      "cell_type": "markdown",
      "metadata": {
        "id": "7DsJOIbidDMP",
        "colab_type": "text"
      },
      "source": [
        "**STEP12**"
      ]
    },
    {
      "cell_type": "code",
      "metadata": {
        "id": "FuILE7NpdFXc",
        "colab_type": "code",
        "colab": {}
      },
      "source": [
        "#Step 12: We backpropagate this Critic loss  and update the  parameters of the two Critic\n",
        "# models with a Adam optimizer\n",
        "self.critic_optimizer.zero_grad() # initializing  the gradients to zero\n",
        "critic_loss.backward() # computing the gradients\n",
        "self.critic_optimizer.step() # performing the weight updates"
      ],
      "execution_count": 0,
      "outputs": []
    },
    {
      "cell_type": "markdown",
      "metadata": {
        "id": "Gz5dk3rpdp0j",
        "colab_type": "text"
      },
      "source": [
        "**STEP13**"
      ]
    },
    {
      "cell_type": "code",
      "metadata": {
        "id": "JK6DwZSdduJv",
        "colab_type": "code",
        "colab": {}
      },
      "source": [
        "#Step 13: Once every two iterations, we update our Actor  model by\n",
        "# performing gradient ascent on the output of the first  critic  model\n",
        "if it % policy_freq == 0:\n",
        "  #This is DPG part\n",
        "  actor_loss = -(self.critic.Q1(state,self.actor(state)).mean())\n",
        "  self.actor_optimizer.grad_zero()\n",
        "  actor_loss.backward()\n",
        "  self.actor_optimizer.step()"
      ],
      "execution_count": 0,
      "outputs": []
    },
    {
      "cell_type": "markdown",
      "metadata": {
        "id": "0hOZ6nFSfHAB",
        "colab_type": "text"
      },
      "source": [
        "**STEP14**"
      ]
    },
    {
      "cell_type": "code",
      "metadata": {
        "id": "qnLnRFa1eb-x",
        "colab_type": "code",
        "colab": {}
      },
      "source": [
        "#Step 14: Still once every two iterations,we update the weights of the Actor target\n",
        "# by Polyak averaging\n",
        "for param,target_param in zip(self.actor.parameters(),self.actor_target.parameters()):\n",
        "  target_param.data.copy_(tau*param.data+(1-tau)*target_param.data)"
      ],
      "execution_count": 0,
      "outputs": []
    },
    {
      "cell_type": "markdown",
      "metadata": {
        "id": "qS65I-iAfJ3K",
        "colab_type": "text"
      },
      "source": [
        "**STEP15**"
      ]
    },
    {
      "cell_type": "code",
      "metadata": {
        "id": "cTlGEeuOfMIt",
        "colab_type": "code",
        "colab": {}
      },
      "source": [
        "#Step 15: Still once every two iterations,we update the weights of the Critic target\n",
        "# by Polyak averaging\n",
        "\n",
        "for param,target_param in zip(self.critic.parameters(),self.critic_target.parameters()):\n",
        "  target_param.data.copy_(tau*param.data+(1-tau)*target_param.data)\n",
        "\n",
        "#T3D is done now!  "
      ],
      "execution_count": 0,
      "outputs": []
    }
  ]
}