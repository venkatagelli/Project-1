{
  "nbformat": 4,
  "nbformat_minor": 0,
  "metadata": {
    "colab": {
      "name": "Neural_word_embeddings.ipynb",
      "provenance": [],
      "collapsed_sections": [],
      "toc_visible": true
    },
    "kernelspec": {
      "name": "python3",
      "display_name": "Python 3"
    },
    "accelerator": "GPU"
  },
  "cells": [
    {
      "cell_type": "markdown",
      "metadata": {
        "id": "eEaiPXGyrJA8",
        "colab_type": "text"
      },
      "source": [
        "# Neural-word-embeddings\n",
        "Name : Venkata Badarinadh Gelli\n",
        "\n",
        "Background :\n",
        "This Assignment we will be using the most popular method Word Embedding to find out how it works \n",
        "\n",
        "Deep Learning for NLP is pattern recognition applied to words, sentences, and paragraphs, in much the same way that computer vision is pattern recognition to pixels.Like all other neural networks, deep-learning models don't take as input raw text: they only work with numeric tensors. Vectorizing text is the process of transforming text into numeric tensors. \n",
        "\n",
        "Requirements :\n",
        "We will use the IMDB database and Glove model to create the word embedding\n",
        "\n",
        "Environment:\n",
        "Development - Colab GPU , Jupyter Notebook Repository : Github\n",
        "\n"
      ]
    },
    {
      "cell_type": "markdown",
      "metadata": {
        "id": "LGyoFkhgyO2G",
        "colab_type": "text"
      },
      "source": [
        "# Import all Libraries"
      ]
    },
    {
      "cell_type": "code",
      "metadata": {
        "id": "VxJ5t5iBrLZ-",
        "colab_type": "code",
        "outputId": "4c1f01a9-2a2f-4cc5-bd54-88be13c72c6c",
        "colab": {
          "base_uri": "https://localhost:8080/",
          "height": 80
        }
      },
      "source": [
        "import numpy as np\n",
        "import os\n",
        "from keras.preprocessing.text import Tokenizer\n",
        "from keras.preprocessing.sequence import pad_sequences\n"
      ],
      "execution_count": 1,
      "outputs": [
        {
          "output_type": "stream",
          "text": [
            "Using TensorFlow backend.\n"
          ],
          "name": "stderr"
        },
        {
          "output_type": "display_data",
          "data": {
            "text/html": [
              "<p style=\"color: red;\">\n",
              "The default version of TensorFlow in Colab will soon switch to TensorFlow 2.x.<br>\n",
              "We recommend you <a href=\"https://www.tensorflow.org/guide/migrate\" target=\"_blank\">upgrade</a> now \n",
              "or ensure your notebook will continue to use TensorFlow 1.x via the <code>%tensorflow_version 1.x</code> magic:\n",
              "<a href=\"https://colab.research.google.com/notebooks/tensorflow_version.ipynb\" target=\"_blank\">more info</a>.</p>\n"
            ],
            "text/plain": [
              "<IPython.core.display.HTML object>"
            ]
          },
          "metadata": {
            "tags": []
          }
        }
      ]
    },
    {
      "cell_type": "markdown",
      "metadata": {
        "id": "q2yD1hQuyYrj",
        "colab_type": "text"
      },
      "source": [
        "# Request to get the IMDB data"
      ]
    },
    {
      "cell_type": "code",
      "metadata": {
        "id": "wwsCLl9rShRI",
        "colab_type": "code",
        "outputId": "ef17ce0e-dc91-423b-adb4-0648715c7c4e",
        "colab": {
          "base_uri": "https://localhost:8080/",
          "height": 122
        }
      },
      "source": [
        "from google.colab import drive\n",
        "drive.mount('/content/drive')"
      ],
      "execution_count": 2,
      "outputs": [
        {
          "output_type": "stream",
          "text": [
            "Go to this URL in a browser: https://accounts.google.com/o/oauth2/auth?client_id=947318989803-6bn6qk8qdgf4n4g3pfee6491hc0brc4i.apps.googleusercontent.com&redirect_uri=urn%3aietf%3awg%3aoauth%3a2.0%3aoob&response_type=code&scope=email%20https%3a%2f%2fwww.googleapis.com%2fauth%2fdocs.test%20https%3a%2f%2fwww.googleapis.com%2fauth%2fdrive%20https%3a%2f%2fwww.googleapis.com%2fauth%2fdrive.photos.readonly%20https%3a%2f%2fwww.googleapis.com%2fauth%2fpeopleapi.readonly\n",
            "\n",
            "Enter your authorization code:\n",
            "··········\n",
            "Mounted at /content/drive\n"
          ],
          "name": "stdout"
        }
      ]
    },
    {
      "cell_type": "code",
      "metadata": {
        "id": "KeeFYYwNLOgo",
        "colab_type": "code",
        "outputId": "cae806b5-1f8f-4b06-c011-6dd86f14a4a5",
        "colab": {
          "base_uri": "https://localhost:8080/",
          "height": 411
        }
      },
      "source": [
        "!wget --no-check-certificate http://mng.bz/0tIo\n",
        "\n"
      ],
      "execution_count": 2,
      "outputs": [
        {
          "output_type": "stream",
          "text": [
            "--2020-03-21 13:17:05--  http://mng.bz/0tIo\n",
            "Resolving mng.bz (mng.bz)... 35.166.24.88\n",
            "Connecting to mng.bz (mng.bz)|35.166.24.88|:80... connected.\n",
            "HTTP request sent, awaiting response... 301 Moved Permanently\n",
            "Location: https://mng.bz/0tIo [following]\n",
            "--2020-03-21 13:17:05--  https://mng.bz/0tIo\n",
            "Connecting to mng.bz (mng.bz)|35.166.24.88|:443... connected.\n",
            "WARNING: cannot verify mng.bz's certificate, issued by ‘CN=Go Daddy Secure Certificate Authority - G2,OU=http://certs.godaddy.com/repository/,O=GoDaddy.com\\\\, Inc.,L=Scottsdale,ST=Arizona,C=US’:\n",
            "  Unable to locally verify the issuer's authority.\n",
            "HTTP request sent, awaiting response... 301 \n",
            "Location: http://s3.amazonaws.com/text-datasets/aclImdb.zip [following]\n",
            "--2020-03-21 13:17:06--  http://s3.amazonaws.com/text-datasets/aclImdb.zip\n",
            "Resolving s3.amazonaws.com (s3.amazonaws.com)... 52.216.102.101\n",
            "Connecting to s3.amazonaws.com (s3.amazonaws.com)|52.216.102.101|:80... connected.\n",
            "HTTP request sent, awaiting response... 200 OK\n",
            "Length: 60711700 (58M) [application/zip]\n",
            "Saving to: ‘0tIo’\n",
            "\n",
            "0tIo                100%[===================>]  57.90M  22.0MB/s    in 2.6s    \n",
            "\n",
            "2020-03-21 13:17:09 (22.0 MB/s) - ‘0tIo’ saved [60711700/60711700]\n",
            "\n"
          ],
          "name": "stdout"
        }
      ]
    },
    {
      "cell_type": "code",
      "metadata": {
        "id": "thGWbdrNLT8b",
        "colab_type": "code",
        "colab": {}
      },
      "source": [
        "!unzip -q 0tIo"
      ],
      "execution_count": 0,
      "outputs": []
    },
    {
      "cell_type": "markdown",
      "metadata": {
        "id": "K701fgeWzB5R",
        "colab_type": "text"
      },
      "source": [
        "# Read the IMDB Data and append labels "
      ]
    },
    {
      "cell_type": "code",
      "metadata": {
        "id": "GQQRfVtxLnS2",
        "colab_type": "code",
        "colab": {}
      },
      "source": [
        "imdb_dir = '/content/aclImdb'\n",
        "train_dir = os.path.join(imdb_dir, 'train')\n",
        "\n",
        "labels = []\n",
        "texts = []\n",
        "\n",
        "for label_type in ['neg', 'pos']:\n",
        "  dir_name = os.path.join(train_dir, label_type)\n",
        "  for fname in os.listdir(dir_name):\n",
        "    #print(fname)\n",
        "    if fname[-4:] == '.txt':\n",
        "      #print('opening file', fname)\n",
        "      f = open(os.path.join(dir_name, fname))\n",
        "      texts.append(f.read())\n",
        "      f.close()\n",
        "      if label_type == 'neg':\n",
        "        labels.append(0)\n",
        "      else:\n",
        "        labels.append(1)"
      ],
      "execution_count": 0,
      "outputs": []
    },
    {
      "cell_type": "markdown",
      "metadata": {
        "id": "n3OwaU8tzMDS",
        "colab_type": "text"
      },
      "source": [
        "# Print the Length of the texts"
      ]
    },
    {
      "cell_type": "code",
      "metadata": {
        "id": "7orZNf4r5cz6",
        "colab_type": "code",
        "outputId": "9eb4afc5-1602-4e46-91df-6a1b1492a97f",
        "colab": {
          "base_uri": "https://localhost:8080/",
          "height": 34
        }
      },
      "source": [
        "print(len(texts))"
      ],
      "execution_count": 5,
      "outputs": [
        {
          "output_type": "stream",
          "text": [
            "25000\n"
          ],
          "name": "stdout"
        }
      ]
    },
    {
      "cell_type": "code",
      "metadata": {
        "id": "MMrtToDz5fzU",
        "colab_type": "code",
        "outputId": "a92882f8-46e8-4192-8260-56c110840b78",
        "colab": {
          "base_uri": "https://localhost:8080/",
          "height": 68
        }
      },
      "source": [
        "\n",
        "maxlen = 100                  # Define the maximum length of each record \n",
        "training_samples = 8000       # Define the number of samples to be taken for training\n",
        "validation_samples = 10000    # Define number of validation samples. In this we will see that even less number of training samples than validation data also perform not very bad \n",
        "max_words = 10000             # Creates a tokenizer, configured to only take into account the 10,000 most common words\n",
        "\n",
        "\n",
        "# Create Tokenizer , Fit it to the Texts and create a sequence of texts from the tokenizer \n",
        "tokenizer = Tokenizer(num_words=max_words)\n",
        "tokenizer.fit_on_texts(texts)\n",
        "sequences = tokenizer.texts_to_sequences(texts)\n",
        "# Create a dictionary of the word and respective numeric index value \n",
        "word_index = tokenizer.word_index\n",
        "print('Found %s unique tokens.' % len(word_index))\n",
        "# Define the sequence with the numeric indexes \n",
        "data = pad_sequences(sequences, maxlen=maxlen)\n",
        "# variable for labels\n",
        "labels = np.asarray(labels)\n",
        "print('Shape of data tensor:', data.shape)\n",
        "print('Shape of label tensor:', labels.shape)\n",
        "\n",
        "# Shuffle the indices as the data are normally in group for each label \n",
        "indices = np.arange(data.shape[0])\n",
        "np.random.shuffle(indices)\n",
        "data = data[indices]\n",
        "labels = labels[indices]\n",
        "# Segreegate data for training and validation \n",
        "x_train = data[:training_samples]\n",
        "y_train = labels[:training_samples]\n",
        "\n",
        "x_val = data[training_samples: training_samples + validation_samples]\n",
        "y_val = labels[training_samples: training_samples + validation_samples]"
      ],
      "execution_count": 6,
      "outputs": [
        {
          "output_type": "stream",
          "text": [
            "Found 88582 unique tokens.\n",
            "Shape of data tensor: (25000, 100)\n",
            "Shape of label tensor: (25000,)\n"
          ],
          "name": "stdout"
        }
      ]
    },
    {
      "cell_type": "markdown",
      "metadata": {
        "id": "nLxlohYc3lA2",
        "colab_type": "text"
      },
      "source": [
        "# Download the Glove model . \n",
        "Here we are downloading the Glove6B model as our environment may not support heavier models than this due to memory constraints "
      ]
    },
    {
      "cell_type": "code",
      "metadata": {
        "id": "zBdzSAxl5xNV",
        "colab_type": "code",
        "outputId": "09b0f060-407c-40bf-fc24-13eb23e61b86",
        "colab": {
          "base_uri": "https://localhost:8080/",
          "height": 357
        }
      },
      "source": [
        "\n",
        "!wget http://nlp.stanford.edu/data/glove.6B.zip"
      ],
      "execution_count": 7,
      "outputs": [
        {
          "output_type": "stream",
          "text": [
            "--2020-03-21 13:20:35--  http://nlp.stanford.edu/data/glove.6B.zip\n",
            "Resolving nlp.stanford.edu (nlp.stanford.edu)... 171.64.67.140\n",
            "Connecting to nlp.stanford.edu (nlp.stanford.edu)|171.64.67.140|:80... connected.\n",
            "HTTP request sent, awaiting response... 302 Found\n",
            "Location: https://nlp.stanford.edu/data/glove.6B.zip [following]\n",
            "--2020-03-21 13:20:35--  https://nlp.stanford.edu/data/glove.6B.zip\n",
            "Connecting to nlp.stanford.edu (nlp.stanford.edu)|171.64.67.140|:443... connected.\n",
            "HTTP request sent, awaiting response... 301 Moved Permanently\n",
            "Location: http://downloads.cs.stanford.edu/nlp/data/glove.6B.zip [following]\n",
            "--2020-03-21 13:20:36--  http://downloads.cs.stanford.edu/nlp/data/glove.6B.zip\n",
            "Resolving downloads.cs.stanford.edu (downloads.cs.stanford.edu)... 171.64.64.22\n",
            "Connecting to downloads.cs.stanford.edu (downloads.cs.stanford.edu)|171.64.64.22|:80... connected.\n",
            "HTTP request sent, awaiting response... 200 OK\n",
            "Length: 862182613 (822M) [application/zip]\n",
            "Saving to: ‘glove.6B.zip’\n",
            "\n",
            "glove.6B.zip        100%[===================>] 822.24M  2.14MB/s    in 6m 29s  \n",
            "\n",
            "2020-03-21 13:27:05 (2.11 MB/s) - ‘glove.6B.zip’ saved [862182613/862182613]\n",
            "\n"
          ],
          "name": "stdout"
        }
      ]
    },
    {
      "cell_type": "code",
      "metadata": {
        "id": "xx35i3wG6Ch-",
        "colab_type": "code",
        "outputId": "91523f39-1ea4-4c11-cb59-145868d15cff",
        "colab": {
          "base_uri": "https://localhost:8080/",
          "height": 102
        }
      },
      "source": [
        "!unzip glove*.zip"
      ],
      "execution_count": 8,
      "outputs": [
        {
          "output_type": "stream",
          "text": [
            "Archive:  glove.6B.zip\n",
            "  inflating: glove.6B.50d.txt        \n",
            "  inflating: glove.6B.100d.txt       \n",
            "  inflating: glove.6B.200d.txt       \n",
            "  inflating: glove.6B.300d.txt       \n"
          ],
          "name": "stdout"
        }
      ]
    },
    {
      "cell_type": "markdown",
      "metadata": {
        "id": "CbXwoeDA337T",
        "colab_type": "text"
      },
      "source": [
        "We will use the glove model for 100 dimension . We can use heavier models but due to memory constraints we are using this one "
      ]
    },
    {
      "cell_type": "markdown",
      "metadata": {
        "id": "tit5ZmAa7kBE",
        "colab_type": "text"
      },
      "source": [
        "# Read the embedding file and load the data"
      ]
    },
    {
      "cell_type": "code",
      "metadata": {
        "id": "qkq4BSOh8i_q",
        "colab_type": "code",
        "outputId": "d7c26a91-3670-48ce-dc05-2fab5fd64eb7",
        "colab": {
          "base_uri": "https://localhost:8080/",
          "height": 34
        }
      },
      "source": [
        "glove_dir = '/content'\n",
        "embeddings_index = {}\n",
        "\n",
        "embedding_dim = 100\n",
        "embedding_file_name = 'glove.6B.100d.txt'\n",
        "\n",
        "f = open(os.path.join(glove_dir, embedding_file_name ))\n",
        "for line in f:\n",
        "  values = line.split()\n",
        "  word = values[0]\n",
        "  coefs = np.asarray(values[1:], dtype='float32')\n",
        "  embeddings_index[word] = coefs\n",
        "f.close()\n",
        "\n",
        "print('Found %s word vectors.' %len(embeddings_index))"
      ],
      "execution_count": 9,
      "outputs": [
        {
          "output_type": "stream",
          "text": [
            "Found 400000 word vectors.\n"
          ],
          "name": "stdout"
        }
      ]
    },
    {
      "cell_type": "markdown",
      "metadata": {
        "id": "YNBxoMiS77DZ",
        "colab_type": "text"
      },
      "source": [
        "# Let's display some to see how it looks "
      ]
    },
    {
      "cell_type": "code",
      "metadata": {
        "id": "BFmGdRjb81P1",
        "colab_type": "code",
        "outputId": "e36f02fe-4641-4bed-98f0-446a6780c1b3",
        "colab": {
          "base_uri": "https://localhost:8080/",
          "height": 54
        }
      },
      "source": [
        "print(list(embeddings_index.keys())[0:100])\n"
      ],
      "execution_count": 10,
      "outputs": [
        {
          "output_type": "stream",
          "text": [
            "['the', ',', '.', 'of', 'to', 'and', 'in', 'a', '\"', \"'s\", 'for', '-', 'that', 'on', 'is', 'was', 'said', 'with', 'he', 'as', 'it', 'by', 'at', '(', ')', 'from', 'his', \"''\", '``', 'an', 'be', 'has', 'are', 'have', 'but', 'were', 'not', 'this', 'who', 'they', 'had', 'i', 'which', 'will', 'their', ':', 'or', 'its', 'one', 'after', 'new', 'been', 'also', 'we', 'would', 'two', 'more', \"'\", 'first', 'about', 'up', 'when', 'year', 'there', 'all', '--', 'out', 'she', 'other', 'people', \"n't\", 'her', 'percent', 'than', 'over', 'into', 'last', 'some', 'government', 'time', '$', 'you', 'years', 'if', 'no', 'world', 'can', 'three', 'do', ';', 'president', 'only', 'state', 'million', 'could', 'us', 'most', '_', 'against', 'u.s.']\n"
          ],
          "name": "stdout"
        }
      ]
    },
    {
      "cell_type": "markdown",
      "metadata": {
        "id": "-L_iL1EN7-4h",
        "colab_type": "text"
      },
      "source": [
        "# Steps\n",
        "1. Define a  blank Embedding_matrix\n",
        "2. Update Embedding matrix by reading sequentially using the Embedding Index "
      ]
    },
    {
      "cell_type": "code",
      "metadata": {
        "id": "9vc5kuDW8-9g",
        "colab_type": "code",
        "colab": {}
      },
      "source": [
        "embedding_matrix = np.zeros((max_words, embedding_dim))\n",
        "for word, i in word_index.items():\n",
        "    if i < max_words:\n",
        "        embedding_vector = embeddings_index.get(word)\n",
        "        if embedding_vector is not None:\n",
        "            embedding_matrix[i] = embedding_vector   # Words not found in the embedding index will be all zeros"
      ],
      "execution_count": 0,
      "outputs": []
    },
    {
      "cell_type": "markdown",
      "metadata": {
        "id": "G0XiaMRC85fB",
        "colab_type": "text"
      },
      "source": [
        "# Define a Sequential model \n",
        "The Model consisits of 2 fully connected layers . This is one of the simple layers used as the intention here is to understand how word embedding works and not to go deeep models to improve the accuracy of the model. We will look into model training and performance improvement later\n"
      ]
    },
    {
      "cell_type": "code",
      "metadata": {
        "id": "k6qg35_D9HLr",
        "colab_type": "code",
        "outputId": "4f8c329c-c11c-4b2e-ca5d-961f94d3cdce",
        "colab": {
          "base_uri": "https://localhost:8080/",
          "height": 411
        }
      },
      "source": [
        "from keras.models import Sequential\n",
        "from keras.layers import Embedding, Flatten, Dense\n",
        "\n",
        "model = Sequential()\n",
        "model.add(Embedding(max_words, embedding_dim, input_length=maxlen))\n",
        "model.add(Flatten())\n",
        "model.add(Dense(32, activation='relu'))\n",
        "model.add(Dense(1, activation='sigmoid'))\n",
        "model.summary()"
      ],
      "execution_count": 12,
      "outputs": [
        {
          "output_type": "stream",
          "text": [
            "WARNING:tensorflow:From /usr/local/lib/python3.6/dist-packages/keras/backend/tensorflow_backend.py:66: The name tf.get_default_graph is deprecated. Please use tf.compat.v1.get_default_graph instead.\n",
            "\n",
            "WARNING:tensorflow:From /usr/local/lib/python3.6/dist-packages/keras/backend/tensorflow_backend.py:541: The name tf.placeholder is deprecated. Please use tf.compat.v1.placeholder instead.\n",
            "\n",
            "WARNING:tensorflow:From /usr/local/lib/python3.6/dist-packages/keras/backend/tensorflow_backend.py:4432: The name tf.random_uniform is deprecated. Please use tf.random.uniform instead.\n",
            "\n",
            "Model: \"sequential_1\"\n",
            "_________________________________________________________________\n",
            "Layer (type)                 Output Shape              Param #   \n",
            "=================================================================\n",
            "embedding_1 (Embedding)      (None, 100, 100)          1000000   \n",
            "_________________________________________________________________\n",
            "flatten_1 (Flatten)          (None, 10000)             0         \n",
            "_________________________________________________________________\n",
            "dense_1 (Dense)              (None, 32)                320032    \n",
            "_________________________________________________________________\n",
            "dense_2 (Dense)              (None, 1)                 33        \n",
            "=================================================================\n",
            "Total params: 1,320,065\n",
            "Trainable params: 1,320,065\n",
            "Non-trainable params: 0\n",
            "_________________________________________________________________\n"
          ],
          "name": "stdout"
        }
      ]
    },
    {
      "cell_type": "markdown",
      "metadata": {
        "id": "6QPbiuI59iuf",
        "colab_type": "text"
      },
      "source": [
        "1. Set the weights to the Embedding matrix \n",
        "2.  freeze the Embedding layer (set its trainable attribute to False) as we are using a pretrained model\n"
      ]
    },
    {
      "cell_type": "code",
      "metadata": {
        "id": "fSUOohBQ9J3r",
        "colab_type": "code",
        "outputId": "69db7b58-ac26-4200-ec68-3bdfd79bfb67",
        "colab": {
          "base_uri": "https://localhost:8080/",
          "height": 241
        }
      },
      "source": [
        "\n",
        "model.layers[0].set_weights([embedding_matrix])\n",
        "model.layers[0].trainable = False"
      ],
      "execution_count": 13,
      "outputs": [
        {
          "output_type": "stream",
          "text": [
            "WARNING:tensorflow:From /usr/local/lib/python3.6/dist-packages/keras/backend/tensorflow_backend.py:190: The name tf.get_default_session is deprecated. Please use tf.compat.v1.get_default_session instead.\n",
            "\n",
            "WARNING:tensorflow:From /usr/local/lib/python3.6/dist-packages/keras/backend/tensorflow_backend.py:197: The name tf.ConfigProto is deprecated. Please use tf.compat.v1.ConfigProto instead.\n",
            "\n",
            "WARNING:tensorflow:From /usr/local/lib/python3.6/dist-packages/keras/backend/tensorflow_backend.py:203: The name tf.Session is deprecated. Please use tf.compat.v1.Session instead.\n",
            "\n",
            "WARNING:tensorflow:From /usr/local/lib/python3.6/dist-packages/keras/backend/tensorflow_backend.py:207: The name tf.global_variables is deprecated. Please use tf.compat.v1.global_variables instead.\n",
            "\n",
            "WARNING:tensorflow:From /usr/local/lib/python3.6/dist-packages/keras/backend/tensorflow_backend.py:216: The name tf.is_variable_initialized is deprecated. Please use tf.compat.v1.is_variable_initialized instead.\n",
            "\n",
            "WARNING:tensorflow:From /usr/local/lib/python3.6/dist-packages/keras/backend/tensorflow_backend.py:223: The name tf.variables_initializer is deprecated. Please use tf.compat.v1.variables_initializer instead.\n",
            "\n"
          ],
          "name": "stdout"
        }
      ]
    },
    {
      "cell_type": "markdown",
      "metadata": {
        "id": "5jzwr679CSBl",
        "colab_type": "text"
      },
      "source": [
        "# Compile and train the model"
      ]
    },
    {
      "cell_type": "code",
      "metadata": {
        "id": "kLdONR1n9MgG",
        "colab_type": "code",
        "outputId": "4da19161-6235-4400-8fb7-d5987f20aad0",
        "colab": {
          "base_uri": "https://localhost:8080/",
          "height": 1000
        }
      },
      "source": [
        "model.compile(optimizer='rmsprop',\n",
        "              loss='binary_crossentropy',\n",
        "              metrics=['acc'])\n",
        "\n",
        "history = model.fit(x_train, y_train,\n",
        "                    epochs=100,\n",
        "                    batch_size=32,\n",
        "                    validation_data=(x_val, y_val)\n",
        "                    )\n",
        "\n",
        "model.save_weights('pre_trained_glove_model.h5')"
      ],
      "execution_count": 14,
      "outputs": [
        {
          "output_type": "stream",
          "text": [
            "WARNING:tensorflow:From /usr/local/lib/python3.6/dist-packages/keras/optimizers.py:793: The name tf.train.Optimizer is deprecated. Please use tf.compat.v1.train.Optimizer instead.\n",
            "\n",
            "WARNING:tensorflow:From /usr/local/lib/python3.6/dist-packages/keras/backend/tensorflow_backend.py:3657: The name tf.log is deprecated. Please use tf.math.log instead.\n",
            "\n",
            "WARNING:tensorflow:From /tensorflow-1.15.0/python3.6/tensorflow_core/python/ops/nn_impl.py:183: where (from tensorflow.python.ops.array_ops) is deprecated and will be removed in a future version.\n",
            "Instructions for updating:\n",
            "Use tf.where in 2.0, which has the same broadcast rule as np.where\n",
            "WARNING:tensorflow:From /usr/local/lib/python3.6/dist-packages/keras/backend/tensorflow_backend.py:1033: The name tf.assign_add is deprecated. Please use tf.compat.v1.assign_add instead.\n",
            "\n",
            "WARNING:tensorflow:From /usr/local/lib/python3.6/dist-packages/keras/backend/tensorflow_backend.py:1020: The name tf.assign is deprecated. Please use tf.compat.v1.assign instead.\n",
            "\n",
            "Train on 8000 samples, validate on 10000 samples\n",
            "Epoch 1/100\n",
            "8000/8000 [==============================] - 3s 375us/step - loss: 0.7189 - acc: 0.5615 - val_loss: 0.6259 - val_acc: 0.6544\n",
            "Epoch 2/100\n",
            "8000/8000 [==============================] - 1s 138us/step - loss: 0.6028 - acc: 0.6785 - val_loss: 0.6633 - val_acc: 0.6172\n",
            "Epoch 3/100\n",
            "8000/8000 [==============================] - 1s 137us/step - loss: 0.5052 - acc: 0.7568 - val_loss: 0.5863 - val_acc: 0.6912\n",
            "Epoch 4/100\n",
            "8000/8000 [==============================] - 1s 134us/step - loss: 0.4309 - acc: 0.8054 - val_loss: 0.5820 - val_acc: 0.7046\n",
            "Epoch 5/100\n",
            "8000/8000 [==============================] - 1s 136us/step - loss: 0.3644 - acc: 0.8433 - val_loss: 0.5971 - val_acc: 0.7024\n",
            "Epoch 6/100\n",
            "8000/8000 [==============================] - 1s 140us/step - loss: 0.3176 - acc: 0.8663 - val_loss: 0.6394 - val_acc: 0.7049\n",
            "Epoch 7/100\n",
            "8000/8000 [==============================] - 1s 132us/step - loss: 0.2531 - acc: 0.8939 - val_loss: 0.6822 - val_acc: 0.7003\n",
            "Epoch 8/100\n",
            "8000/8000 [==============================] - 1s 133us/step - loss: 0.2014 - acc: 0.9243 - val_loss: 0.7901 - val_acc: 0.6981\n",
            "Epoch 9/100\n",
            "8000/8000 [==============================] - 1s 136us/step - loss: 0.1671 - acc: 0.9402 - val_loss: 0.7990 - val_acc: 0.6906\n",
            "Epoch 10/100\n",
            "8000/8000 [==============================] - 1s 135us/step - loss: 0.1293 - acc: 0.9536 - val_loss: 0.8566 - val_acc: 0.6975\n",
            "Epoch 11/100\n",
            "8000/8000 [==============================] - 1s 133us/step - loss: 0.0934 - acc: 0.9705 - val_loss: 1.0402 - val_acc: 0.6834\n",
            "Epoch 12/100\n",
            "8000/8000 [==============================] - 1s 142us/step - loss: 0.0650 - acc: 0.9798 - val_loss: 1.0880 - val_acc: 0.6877\n",
            "Epoch 13/100\n",
            "8000/8000 [==============================] - 1s 146us/step - loss: 0.0486 - acc: 0.9842 - val_loss: 1.0932 - val_acc: 0.6930\n",
            "Epoch 14/100\n",
            "8000/8000 [==============================] - 1s 140us/step - loss: 0.0427 - acc: 0.9872 - val_loss: 1.2242 - val_acc: 0.6931\n",
            "Epoch 15/100\n",
            "8000/8000 [==============================] - 1s 140us/step - loss: 0.0238 - acc: 0.9919 - val_loss: 1.4501 - val_acc: 0.6809\n",
            "Epoch 16/100\n",
            "8000/8000 [==============================] - 1s 141us/step - loss: 0.0243 - acc: 0.9931 - val_loss: 1.4559 - val_acc: 0.6802\n",
            "Epoch 17/100\n",
            "8000/8000 [==============================] - 1s 141us/step - loss: 0.0233 - acc: 0.9921 - val_loss: 2.3631 - val_acc: 0.6249\n",
            "Epoch 18/100\n",
            "8000/8000 [==============================] - 1s 140us/step - loss: 0.0128 - acc: 0.9960 - val_loss: 1.4753 - val_acc: 0.6872\n",
            "Epoch 19/100\n",
            "8000/8000 [==============================] - 1s 138us/step - loss: 0.0246 - acc: 0.9916 - val_loss: 1.4450 - val_acc: 0.6927\n",
            "Epoch 20/100\n",
            "8000/8000 [==============================] - 1s 140us/step - loss: 0.0098 - acc: 0.9967 - val_loss: 2.7628 - val_acc: 0.6184\n",
            "Epoch 21/100\n",
            "8000/8000 [==============================] - 1s 142us/step - loss: 0.0125 - acc: 0.9959 - val_loss: 1.6895 - val_acc: 0.6890\n",
            "Epoch 22/100\n",
            "8000/8000 [==============================] - 1s 139us/step - loss: 0.0101 - acc: 0.9961 - val_loss: 1.7075 - val_acc: 0.6887\n",
            "Epoch 23/100\n",
            "8000/8000 [==============================] - 1s 133us/step - loss: 0.0102 - acc: 0.9951 - val_loss: 1.6962 - val_acc: 0.6871\n",
            "Epoch 24/100\n",
            "8000/8000 [==============================] - 1s 138us/step - loss: 0.0144 - acc: 0.9955 - val_loss: 1.7983 - val_acc: 0.6894\n",
            "Epoch 25/100\n",
            "8000/8000 [==============================] - 1s 136us/step - loss: 0.0102 - acc: 0.9964 - val_loss: 1.8126 - val_acc: 0.6846\n",
            "Epoch 26/100\n",
            "8000/8000 [==============================] - 1s 134us/step - loss: 0.0124 - acc: 0.9967 - val_loss: 1.9192 - val_acc: 0.6839\n",
            "Epoch 27/100\n",
            "8000/8000 [==============================] - 1s 138us/step - loss: 0.0160 - acc: 0.9949 - val_loss: 1.8362 - val_acc: 0.6875\n",
            "Epoch 28/100\n",
            "8000/8000 [==============================] - 1s 133us/step - loss: 0.0099 - acc: 0.9966 - val_loss: 1.8690 - val_acc: 0.6879\n",
            "Epoch 29/100\n",
            "8000/8000 [==============================] - 1s 137us/step - loss: 0.0050 - acc: 0.9988 - val_loss: 1.9049 - val_acc: 0.6898\n",
            "Epoch 30/100\n",
            "8000/8000 [==============================] - 1s 141us/step - loss: 0.0064 - acc: 0.9981 - val_loss: 2.0167 - val_acc: 0.6924\n",
            "Epoch 31/100\n",
            "8000/8000 [==============================] - 1s 134us/step - loss: 0.0068 - acc: 0.9979 - val_loss: 2.0498 - val_acc: 0.6872\n",
            "Epoch 32/100\n",
            "8000/8000 [==============================] - 1s 140us/step - loss: 0.0103 - acc: 0.9964 - val_loss: 2.0280 - val_acc: 0.6909\n",
            "Epoch 33/100\n",
            "8000/8000 [==============================] - 1s 137us/step - loss: 0.0120 - acc: 0.9966 - val_loss: 1.9756 - val_acc: 0.6889\n",
            "Epoch 34/100\n",
            "8000/8000 [==============================] - 1s 135us/step - loss: 0.0071 - acc: 0.9973 - val_loss: 2.0378 - val_acc: 0.6878\n",
            "Epoch 35/100\n",
            "8000/8000 [==============================] - 1s 132us/step - loss: 0.0052 - acc: 0.9988 - val_loss: 2.1703 - val_acc: 0.6857\n",
            "Epoch 36/100\n",
            "8000/8000 [==============================] - 1s 132us/step - loss: 0.0037 - acc: 0.9988 - val_loss: 2.2367 - val_acc: 0.6828\n",
            "Epoch 37/100\n",
            "8000/8000 [==============================] - 1s 135us/step - loss: 0.0027 - acc: 0.9988 - val_loss: 2.2974 - val_acc: 0.6878\n",
            "Epoch 38/100\n",
            "8000/8000 [==============================] - 1s 134us/step - loss: 0.0017 - acc: 0.9992 - val_loss: 2.2555 - val_acc: 0.6867\n",
            "Epoch 39/100\n",
            "8000/8000 [==============================] - 1s 135us/step - loss: 0.0032 - acc: 0.9988 - val_loss: 2.2868 - val_acc: 0.6880\n",
            "Epoch 40/100\n",
            "8000/8000 [==============================] - 1s 132us/step - loss: 0.0088 - acc: 0.9981 - val_loss: 2.4096 - val_acc: 0.6824\n",
            "Epoch 41/100\n",
            "8000/8000 [==============================] - 1s 137us/step - loss: 0.0042 - acc: 0.9989 - val_loss: 2.3175 - val_acc: 0.6825\n",
            "Epoch 42/100\n",
            "8000/8000 [==============================] - 1s 135us/step - loss: 0.0035 - acc: 0.9986 - val_loss: 2.3952 - val_acc: 0.6854\n",
            "Epoch 43/100\n",
            "8000/8000 [==============================] - 1s 134us/step - loss: 0.0032 - acc: 0.9990 - val_loss: 2.4869 - val_acc: 0.6840\n",
            "Epoch 44/100\n",
            "8000/8000 [==============================] - 1s 137us/step - loss: 0.0048 - acc: 0.9984 - val_loss: 2.4161 - val_acc: 0.6839\n",
            "Epoch 45/100\n",
            "8000/8000 [==============================] - 1s 133us/step - loss: 0.0024 - acc: 0.9991 - val_loss: 2.5353 - val_acc: 0.6860\n",
            "Epoch 46/100\n",
            "8000/8000 [==============================] - 1s 139us/step - loss: 0.0060 - acc: 0.9988 - val_loss: 2.4188 - val_acc: 0.6798\n",
            "Epoch 47/100\n",
            "8000/8000 [==============================] - 1s 134us/step - loss: 3.3840e-04 - acc: 1.0000 - val_loss: 2.5170 - val_acc: 0.6848\n",
            "Epoch 48/100\n",
            "8000/8000 [==============================] - 1s 139us/step - loss: 0.0057 - acc: 0.9985 - val_loss: 2.5140 - val_acc: 0.6849\n",
            "Epoch 49/100\n",
            "8000/8000 [==============================] - 1s 140us/step - loss: 6.0534e-04 - acc: 0.9999 - val_loss: 2.5899 - val_acc: 0.6846\n",
            "Epoch 50/100\n",
            "8000/8000 [==============================] - 1s 139us/step - loss: 0.0040 - acc: 0.9996 - val_loss: 2.5529 - val_acc: 0.6872\n",
            "Epoch 51/100\n",
            "8000/8000 [==============================] - 1s 140us/step - loss: 0.0072 - acc: 0.9979 - val_loss: 2.6328 - val_acc: 0.6839\n",
            "Epoch 52/100\n",
            "8000/8000 [==============================] - 1s 137us/step - loss: 0.0011 - acc: 0.9992 - val_loss: 2.5826 - val_acc: 0.6856\n",
            "Epoch 53/100\n",
            "8000/8000 [==============================] - 1s 139us/step - loss: 5.5066e-04 - acc: 0.9998 - val_loss: 2.6386 - val_acc: 0.6857\n",
            "Epoch 54/100\n",
            "8000/8000 [==============================] - 1s 138us/step - loss: 0.0024 - acc: 0.9991 - val_loss: 2.7009 - val_acc: 0.6865\n",
            "Epoch 55/100\n",
            "8000/8000 [==============================] - 1s 139us/step - loss: 0.0025 - acc: 0.9996 - val_loss: 2.6653 - val_acc: 0.6860\n",
            "Epoch 56/100\n",
            "8000/8000 [==============================] - 1s 140us/step - loss: 0.0027 - acc: 0.9991 - val_loss: 2.7785 - val_acc: 0.6852\n",
            "Epoch 57/100\n",
            "8000/8000 [==============================] - 1s 139us/step - loss: 0.0019 - acc: 0.9994 - val_loss: 2.7234 - val_acc: 0.6838\n",
            "Epoch 58/100\n",
            "8000/8000 [==============================] - 1s 137us/step - loss: 0.0031 - acc: 0.9992 - val_loss: 2.6940 - val_acc: 0.6869\n",
            "Epoch 59/100\n",
            "8000/8000 [==============================] - 1s 140us/step - loss: 0.0022 - acc: 0.9995 - val_loss: 2.7722 - val_acc: 0.6878\n",
            "Epoch 60/100\n",
            "8000/8000 [==============================] - 1s 139us/step - loss: 0.0058 - acc: 0.9984 - val_loss: 2.7165 - val_acc: 0.6829\n",
            "Epoch 61/100\n",
            "8000/8000 [==============================] - 1s 140us/step - loss: 0.0028 - acc: 0.9994 - val_loss: 2.8690 - val_acc: 0.6839\n",
            "Epoch 62/100\n",
            "8000/8000 [==============================] - 1s 134us/step - loss: 5.7941e-04 - acc: 0.9998 - val_loss: 2.7771 - val_acc: 0.6816\n",
            "Epoch 63/100\n",
            "8000/8000 [==============================] - 1s 135us/step - loss: 4.9953e-05 - acc: 1.0000 - val_loss: 2.8630 - val_acc: 0.6831\n",
            "Epoch 64/100\n",
            "8000/8000 [==============================] - 1s 135us/step - loss: 4.1367e-04 - acc: 0.9998 - val_loss: 2.8717 - val_acc: 0.6864\n",
            "Epoch 65/100\n",
            "8000/8000 [==============================] - 1s 134us/step - loss: 0.0018 - acc: 0.9995 - val_loss: 2.9026 - val_acc: 0.6822\n",
            "Epoch 66/100\n",
            "8000/8000 [==============================] - 1s 136us/step - loss: 0.0024 - acc: 0.9992 - val_loss: 2.7713 - val_acc: 0.6826\n",
            "Epoch 67/100\n",
            "8000/8000 [==============================] - 1s 139us/step - loss: 5.7691e-04 - acc: 0.9996 - val_loss: 2.7483 - val_acc: 0.6812\n",
            "Epoch 68/100\n",
            "8000/8000 [==============================] - 1s 137us/step - loss: 0.0013 - acc: 0.9996 - val_loss: 2.8893 - val_acc: 0.6825\n",
            "Epoch 69/100\n",
            "8000/8000 [==============================] - 1s 133us/step - loss: 3.1857e-05 - acc: 1.0000 - val_loss: 2.9862 - val_acc: 0.6871\n",
            "Epoch 70/100\n",
            "8000/8000 [==============================] - 1s 137us/step - loss: 2.8381e-04 - acc: 0.9999 - val_loss: 2.9694 - val_acc: 0.6865\n",
            "Epoch 71/100\n",
            "8000/8000 [==============================] - 1s 140us/step - loss: 0.0015 - acc: 0.9995 - val_loss: 3.1142 - val_acc: 0.6818\n",
            "Epoch 72/100\n",
            "8000/8000 [==============================] - 1s 133us/step - loss: 4.2679e-06 - acc: 1.0000 - val_loss: 3.0395 - val_acc: 0.6799\n",
            "Epoch 73/100\n",
            "8000/8000 [==============================] - 1s 133us/step - loss: 9.3509e-04 - acc: 0.9999 - val_loss: 2.9975 - val_acc: 0.6859\n",
            "Epoch 74/100\n",
            "8000/8000 [==============================] - 1s 135us/step - loss: 8.7049e-04 - acc: 0.9998 - val_loss: 2.9922 - val_acc: 0.6858\n",
            "Epoch 75/100\n",
            "8000/8000 [==============================] - 1s 135us/step - loss: 1.9393e-07 - acc: 1.0000 - val_loss: 3.0435 - val_acc: 0.6872\n",
            "Epoch 76/100\n",
            "8000/8000 [==============================] - 1s 137us/step - loss: 1.1271e-07 - acc: 1.0000 - val_loss: 3.0380 - val_acc: 0.6862\n",
            "Epoch 77/100\n",
            "8000/8000 [==============================] - 1s 133us/step - loss: 1.1031e-07 - acc: 1.0000 - val_loss: 3.0575 - val_acc: 0.6864\n",
            "Epoch 78/100\n",
            "8000/8000 [==============================] - 1s 138us/step - loss: 1.0994e-07 - acc: 1.0000 - val_loss: 3.0657 - val_acc: 0.6867\n",
            "Epoch 79/100\n",
            "8000/8000 [==============================] - 1s 140us/step - loss: 1.0987e-07 - acc: 1.0000 - val_loss: 3.0729 - val_acc: 0.6861\n",
            "Epoch 80/100\n",
            "8000/8000 [==============================] - 1s 139us/step - loss: 1.0982e-07 - acc: 1.0000 - val_loss: 3.0794 - val_acc: 0.6863\n",
            "Epoch 81/100\n",
            "8000/8000 [==============================] - 1s 138us/step - loss: 1.0978e-07 - acc: 1.0000 - val_loss: 3.0800 - val_acc: 0.6863\n",
            "Epoch 82/100\n",
            "8000/8000 [==============================] - 1s 133us/step - loss: 1.0978e-07 - acc: 1.0000 - val_loss: 3.0799 - val_acc: 0.6863\n",
            "Epoch 83/100\n",
            "8000/8000 [==============================] - 1s 136us/step - loss: 1.0976e-07 - acc: 1.0000 - val_loss: 3.0847 - val_acc: 0.6873\n",
            "Epoch 84/100\n",
            "8000/8000 [==============================] - 1s 134us/step - loss: 1.0976e-07 - acc: 1.0000 - val_loss: 3.0845 - val_acc: 0.6874\n",
            "Epoch 85/100\n",
            "8000/8000 [==============================] - 1s 139us/step - loss: 1.0974e-07 - acc: 1.0000 - val_loss: 3.0901 - val_acc: 0.6870\n",
            "Epoch 86/100\n",
            "8000/8000 [==============================] - 1s 135us/step - loss: 1.0974e-07 - acc: 1.0000 - val_loss: 3.0927 - val_acc: 0.6867\n",
            "Epoch 87/100\n",
            "8000/8000 [==============================] - 1s 136us/step - loss: 1.0974e-07 - acc: 1.0000 - val_loss: 3.0921 - val_acc: 0.6874\n",
            "Epoch 88/100\n",
            "8000/8000 [==============================] - 1s 135us/step - loss: 1.0974e-07 - acc: 1.0000 - val_loss: 3.0928 - val_acc: 0.6864\n",
            "Epoch 89/100\n",
            "8000/8000 [==============================] - 1s 135us/step - loss: 1.0974e-07 - acc: 1.0000 - val_loss: 3.0907 - val_acc: 0.6862\n",
            "Epoch 90/100\n",
            "8000/8000 [==============================] - 1s 138us/step - loss: 1.0973e-07 - acc: 1.0000 - val_loss: 3.0924 - val_acc: 0.6867\n",
            "Epoch 91/100\n",
            "8000/8000 [==============================] - 1s 134us/step - loss: 1.0973e-07 - acc: 1.0000 - val_loss: 3.0951 - val_acc: 0.6860\n",
            "Epoch 92/100\n",
            "8000/8000 [==============================] - 1s 135us/step - loss: 1.0973e-07 - acc: 1.0000 - val_loss: 3.0973 - val_acc: 0.6872\n",
            "Epoch 93/100\n",
            "8000/8000 [==============================] - 1s 138us/step - loss: 1.0974e-07 - acc: 1.0000 - val_loss: 3.0936 - val_acc: 0.6869\n",
            "Epoch 94/100\n",
            "8000/8000 [==============================] - 1s 137us/step - loss: 1.0973e-07 - acc: 1.0000 - val_loss: 3.0973 - val_acc: 0.6867\n",
            "Epoch 95/100\n",
            "8000/8000 [==============================] - 1s 134us/step - loss: 1.0974e-07 - acc: 1.0000 - val_loss: 3.0950 - val_acc: 0.6866\n",
            "Epoch 96/100\n",
            "8000/8000 [==============================] - 1s 137us/step - loss: 1.0973e-07 - acc: 1.0000 - val_loss: 3.0976 - val_acc: 0.6865\n",
            "Epoch 97/100\n",
            "8000/8000 [==============================] - 1s 136us/step - loss: 1.0973e-07 - acc: 1.0000 - val_loss: 3.0997 - val_acc: 0.6862\n",
            "Epoch 98/100\n",
            "8000/8000 [==============================] - 1s 133us/step - loss: 1.0972e-07 - acc: 1.0000 - val_loss: 3.1035 - val_acc: 0.6865\n",
            "Epoch 99/100\n",
            "8000/8000 [==============================] - 1s 135us/step - loss: 1.0972e-07 - acc: 1.0000 - val_loss: 3.1008 - val_acc: 0.6863\n",
            "Epoch 100/100\n",
            "8000/8000 [==============================] - 1s 138us/step - loss: 1.0974e-07 - acc: 1.0000 - val_loss: 3.0977 - val_acc: 0.6860\n"
          ],
          "name": "stdout"
        }
      ]
    },
    {
      "cell_type": "markdown",
      "metadata": {
        "id": "7uj9gmyKCanv",
        "colab_type": "text"
      },
      "source": [
        "# Plot the Output to see the performance"
      ]
    },
    {
      "cell_type": "code",
      "metadata": {
        "id": "5b93br3b9TMp",
        "colab_type": "code",
        "outputId": "f2f0d250-5be4-4e76-ba6e-bc9965504a06",
        "colab": {
          "base_uri": "https://localhost:8080/",
          "height": 545
        }
      },
      "source": [
        "import matplotlib.pyplot as plt\n",
        "acc = history.history['acc']\n",
        "val_acc = history.history['val_acc']\n",
        "loss = history.history['loss']\n",
        "val_loss = history.history['val_loss']\n",
        "epochs = range(1, len(acc) + 1)\n",
        "plt.plot(epochs, acc, 'bo', label='Training acc')\n",
        "plt.plot(epochs, val_acc, 'b', label='Validation acc')\n",
        "plt.title('Training and validation accuracy')\n",
        "plt.legend()\n",
        "plt.figure()\n",
        "plt.plot(epochs, loss, 'bo', label='Training loss')\n",
        "plt.plot(epochs, val_loss, 'b', label='Validation loss')\n",
        "plt.title('Training and validation loss')\n",
        "plt.legend()\n",
        "plt.show()"
      ],
      "execution_count": 15,
      "outputs": [
        {
          "output_type": "display_data",
          "data": {
            "image/png": "[encoded data removed]",
            "text/plain": [
              "<Figure size 432x288 with 1 Axes>"
            ]
          },
          "metadata": {
            "tags": []
          }
        },
        {
          "output_type": "display_data",
          "data": {
            "image/png": "[encoded data removed]",
            "text/plain": [
              "<Figure size 432x288 with 1 Axes>"
            ]
          },
          "metadata": {
            "tags": []
          }
        }
      ]
    }
  ]
}