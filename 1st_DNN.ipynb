{
  "nbformat": 4,
  "nbformat_minor": 0,
  "metadata": {
    "colab": {
      "name": "1st DNN.ipynb",
      "version": "0.3.2",
      "provenance": [],
      "collapsed_sections": []
    },
    "kernelspec": {
      "name": "python3",
      "display_name": "Python 3"
    },
    "accelerator": "GPU"
  },
  "cells": [
    {
      "cell_type": "markdown",
      "metadata": {
        "id": "aNyZv-Ec52ot",
        "colab_type": "text"
      },
      "source": [
        "# **Import Libraries and modules**"
      ]
    },
    {
      "cell_type": "markdown",
      "metadata": {
        "id": "qmBby3tJljz1",
        "colab_type": "text"
      },
      "source": [
        "**Download and install Keras**"
      ]
    },
    {
      "cell_type": "code",
      "metadata": {
        "id": "3m3w1Cw49Zkt",
        "colab_type": "code",
        "colab": {}
      },
      "source": [
        "# https://keras.io/\n",
        "!pip install -q keras\n",
        "import keras"
      ],
      "execution_count": 0,
      "outputs": []
    },
    {
      "cell_type": "markdown",
      "metadata": {
        "id": "GpIrsjc2ltkR",
        "colab_type": "text"
      },
      "source": [
        "**Import mnist dataset, layers, utilities and data augmentation tools**"
      ]
    },
    {
      "cell_type": "code",
      "metadata": {
        "id": "Eso6UHE080D4",
        "colab_type": "code",
        "colab": {}
      },
      "source": [
        "import numpy as np\n",
        "\n",
        "from keras.models import Sequential\n",
        "from keras.layers import Dense, Dropout, Activation, Flatten, Add\n",
        "from keras.layers import Convolution2D, MaxPooling2D\n",
        "from keras.utils import np_utils\n",
        "from keras.preprocessing.image import ImageDataGenerator\n",
        "\n",
        "from keras.datasets import mnist"
      ],
      "execution_count": 0,
      "outputs": []
    },
    {
      "cell_type": "markdown",
      "metadata": {
        "id": "zByEi95J86RD",
        "colab_type": "text"
      },
      "source": [
        "### Load pre-shuffled MNIST data into train and test sets"
      ]
    },
    {
      "cell_type": "code",
      "metadata": {
        "id": "7eRM0QWN83PV",
        "colab_type": "code",
        "colab": {}
      },
      "source": [
        "(X_train, y_train), (X_test, y_test) = mnist.load_data()"
      ],
      "execution_count": 0,
      "outputs": []
    },
    {
      "cell_type": "markdown",
      "metadata": {
        "id": "KqYmf1QznnSF",
        "colab_type": "text"
      },
      "source": [
        "**Print Dimensions of the train dataset. And print first image from train dataset**"
      ]
    },
    {
      "cell_type": "code",
      "metadata": {
        "id": "4a4Be72j8-ZC",
        "colab_type": "code",
        "outputId": "2ef6b9d3-3f05-4e4b-cc6f-344d1273bec8",
        "colab": {
          "base_uri": "https://localhost:8080/",
          "height": 303
        }
      },
      "source": [
        "print (X_train.shape)\n",
        "from matplotlib import pyplot as plt\n",
        "%matplotlib inline\n",
        "plt.imshow(X_train[0])"
      ],
      "execution_count": 0,
      "outputs": [
        {
          "output_type": "stream",
          "text": [
            "(60000, 28, 28)\n"
          ],
          "name": "stdout"
        },
        {
          "output_type": "execute_result",
          "data": {
            "text/plain": [
              "<matplotlib.image.AxesImage at 0x7fd5bd8c8208>"
            ]
          },
          "metadata": {
            "tags": []
          },
          "execution_count": 46
        },
        {
          "output_type": "display_data",
          "data": {
            "image/png": "[encoded data removed]",
            "text/plain": [
              "<Figure size 432x288 with 1 Axes>"
            ]
          },
          "metadata": {
            "tags": []
          }
        }
      ]
    },
    {
      "cell_type": "markdown",
      "metadata": {
        "id": "wm3bsvH3npO0",
        "colab_type": "text"
      },
      "source": [
        "**Reshape data into (28,28,1) array**"
      ]
    },
    {
      "cell_type": "code",
      "metadata": {
        "id": "dkmprriw9AnZ",
        "colab_type": "code",
        "colab": {}
      },
      "source": [
        "X_train = X_train.reshape(X_train.shape[0], 28, 28,1)\n",
        "X_test = X_test.reshape(X_test.shape[0], 28, 28,1)"
      ],
      "execution_count": 0,
      "outputs": []
    },
    {
      "cell_type": "markdown",
      "metadata": {
        "id": "1p1x5dcBn67N",
        "colab_type": "text"
      },
      "source": [
        "**Normalize Data**"
      ]
    },
    {
      "cell_type": "code",
      "metadata": {
        "id": "X2m4YS4E9CRh",
        "colab_type": "code",
        "colab": {}
      },
      "source": [
        "X_train = X_train.astype('float32')\n",
        "X_test = X_test.astype('float32')\n",
        "X_train /= 255\n",
        "X_test /= 255"
      ],
      "execution_count": 0,
      "outputs": []
    },
    {
      "cell_type": "markdown",
      "metadata": {
        "id": "DadS0gYLoFfo",
        "colab_type": "text"
      },
      "source": [
        "**Print Sample Data**"
      ]
    },
    {
      "cell_type": "code",
      "metadata": {
        "id": "0Mn0vAYD9DvB",
        "colab_type": "code",
        "outputId": "18b4bd2e-e118-4b07-bb12-0e25b5ccc756",
        "colab": {
          "base_uri": "https://localhost:8080/",
          "height": 34
        }
      },
      "source": [
        "y_train[:10]"
      ],
      "execution_count": 0,
      "outputs": [
        {
          "output_type": "execute_result",
          "data": {
            "text/plain": [
              "array([5, 0, 4, 1, 9, 2, 1, 3, 1, 4], dtype=uint8)"
            ]
          },
          "metadata": {
            "tags": []
          },
          "execution_count": 49
        }
      ]
    },
    {
      "cell_type": "code",
      "metadata": {
        "id": "ZG8JiXR39FHC",
        "colab_type": "code",
        "colab": {}
      },
      "source": [
        "# Convert 1-dimensional class arrays to 10-dimensional class matrices\n",
        "Y_train = np_utils.to_categorical(y_train, 10)\n",
        "Y_test = np_utils.to_categorical(y_test, 10)"
      ],
      "execution_count": 0,
      "outputs": []
    },
    {
      "cell_type": "code",
      "metadata": {
        "id": "fYlFRvKS9HMB",
        "colab_type": "code",
        "outputId": "d97129fe-2fa1-4a9c-c94f-53441aca41f2",
        "colab": {
          "base_uri": "https://localhost:8080/",
          "height": 187
        }
      },
      "source": [
        "Y_train[:10]\n"
      ],
      "execution_count": 0,
      "outputs": [
        {
          "output_type": "execute_result",
          "data": {
            "text/plain": [
              "array([[0., 0., 0., 0., 0., 1., 0., 0., 0., 0.],\n",
              "       [1., 0., 0., 0., 0., 0., 0., 0., 0., 0.],\n",
              "       [0., 0., 0., 0., 1., 0., 0., 0., 0., 0.],\n",
              "       [0., 1., 0., 0., 0., 0., 0., 0., 0., 0.],\n",
              "       [0., 0., 0., 0., 0., 0., 0., 0., 0., 1.],\n",
              "       [0., 0., 1., 0., 0., 0., 0., 0., 0., 0.],\n",
              "       [0., 1., 0., 0., 0., 0., 0., 0., 0., 0.],\n",
              "       [0., 0., 0., 1., 0., 0., 0., 0., 0., 0.],\n",
              "       [0., 1., 0., 0., 0., 0., 0., 0., 0., 0.],\n",
              "       [0., 0., 0., 0., 1., 0., 0., 0., 0., 0.]], dtype=float32)"
            ]
          },
          "metadata": {
            "tags": []
          },
          "execution_count": 51
        }
      ]
    },
    {
      "cell_type": "markdown",
      "metadata": {
        "id": "fDspxhpjoMIH",
        "colab_type": "text"
      },
      "source": [
        "**Data Preprocessing - Define Data Augmentation Stratagy using ImageDataGenerator Class**"
      ]
    },
    {
      "cell_type": "code",
      "metadata": {
        "id": "oAuQJLZ4OTlV",
        "colab_type": "code",
        "colab": {}
      },
      "source": [
        "IDG = ImageDataGenerator(\n",
        "            zoom_range = 0.04, \n",
        "            horizontal_flip=False,\n",
        "            vertical_flip=False,\n",
        "            width_shift_range=0.04,\n",
        "            height_shift_range=0.08,\n",
        "            rotation_range=20)"
      ],
      "execution_count": 0,
      "outputs": []
    },
    {
      "cell_type": "markdown",
      "metadata": {
        "id": "3Bat6ffQsNv_",
        "colab_type": "text"
      },
      "source": [
        "**Fits the data generator to some sample data.**"
      ]
    },
    {
      "cell_type": "code",
      "metadata": {
        "id": "EiYclgF3OUt_",
        "colab_type": "code",
        "colab": {}
      },
      "source": [
        "IDG.fit(X_train)"
      ],
      "execution_count": 0,
      "outputs": []
    },
    {
      "cell_type": "markdown",
      "metadata": {
        "id": "YB9WyTLtsSwg",
        "colab_type": "text"
      },
      "source": [
        "**Define a new architecture by using a sequential model.**"
      ]
    },
    {
      "cell_type": "code",
      "metadata": {
        "id": "F_upZxnuS8Tg",
        "colab_type": "code",
        "outputId": "30d4057e-1256-4c65-e5de-30b0cf696883",
        "colab": {
          "base_uri": "https://localhost:8080/",
          "height": 309
        }
      },
      "source": [
        "from keras.layers import Activation ## Import Activation Functions\n",
        "model = Sequential()\n",
        "## Convolution Block 1 Begins\n",
        "model.add(Convolution2D(16, 3, 3, activation='relu', input_shape=(28,28,1))) ## input 28X28X1 as image dimention. Define 16 channels of kernel size 3X3X1. Receptive field size is 3X3. Output size is 26X26X16. use ReLU activation function.\n",
        "model.add(Convolution2D(16, 3, 3, activation='relu')) ## input size 26X26X16 . Define 16 channels of kernel size 3X3X16. Receptive field size is 5X5. Output size is 24X24X16. use ReLU activation function. \n",
        "model.add(Convolution2D(16, 3, 3, activation='relu')) ## input size 24X24X16 . Define 16 channels of kernel size 3X3X16. Receptive field size is 7X7. Output size is 22X22X16. use ReLU activation function. \n",
        "model.add(Convolution2D(16, 3, 3, activation='relu')) ## input size 22X22X16 . Define 16 channels of kernel size 3X3X16. Receptive field size is 9X9. Output size is 20X20X16. use ReLU activation function. \n",
        "## Convolution Block 1 Ends\n",
        "## Transition Block 1 Begins\n",
        "model.add(Convolution2D(16, 1, activation='relu')) ## input size 20X20X16 . Define 16 channels of kernel size 1X1X16. Receptive field size is 11X11. Output size is 20X20X16. use ReLU activation function. \n",
        "model.add(MaxPooling2D(pool_size=(2, 2))) ## Use maxpooling layer\n",
        "## Transition Block 1 Ends\n",
        "## Convolution Block 2 Begins\n",
        "model.add(Convolution2D(16,3,3, activation='relu')) ## input size 10X10X16 . Define 16 channels of kernel size 3X3X16. Receptive field size is 22X22. Output size is 8X8X16. use ReLU activation function. \n",
        "model.add(Convolution2D(16,3,3, activation='relu')) ## input size 8X8X16 . Define 16 channels of kernel size 3X3X16. Receptive field size is 24X24. Output size is 6X6X16. use ReLU activation function. \n",
        "model.add(Convolution2D(16,3,3, activation='relu')) ## input size 6X6X16 . Define 16 channels of kernel size 3X3X16. Receptive field size is 26X26. Output size is 4X4X16. use ReLU activation function. \n",
        "model.add(Convolution2D(16,3,3, activation='relu')) ## input size 4X4X16 . Define 16 channels of kernel size 3X3X16. Receptive field size is 28X28. Output size is 2X2X16. use ReLU activation function. \n",
        "## Convolution Block 2 Ends\n",
        "model.add(Convolution2D(10, 2))\n",
        "model.add(Flatten()) ## reshape \n",
        "model.add(Activation('softmax')) ## Use softmax activation for classification"
      ],
      "execution_count": 0,
      "outputs": [
        {
          "output_type": "stream",
          "text": [
            "/usr/local/lib/python3.6/dist-packages/ipykernel_launcher.py:3: UserWarning: Update your `Conv2D` call to the Keras 2 API: `Conv2D(16, (3, 3), activation=\"relu\", input_shape=(28, 28, 1...)`\n",
            "  This is separate from the ipykernel package so we can avoid doing imports until\n",
            "/usr/local/lib/python3.6/dist-packages/ipykernel_launcher.py:4: UserWarning: Update your `Conv2D` call to the Keras 2 API: `Conv2D(16, (3, 3), activation=\"relu\")`\n",
            "  after removing the cwd from sys.path.\n",
            "/usr/local/lib/python3.6/dist-packages/ipykernel_launcher.py:5: UserWarning: Update your `Conv2D` call to the Keras 2 API: `Conv2D(16, (3, 3), activation=\"relu\")`\n",
            "  \"\"\"\n",
            "/usr/local/lib/python3.6/dist-packages/ipykernel_launcher.py:6: UserWarning: Update your `Conv2D` call to the Keras 2 API: `Conv2D(16, (3, 3), activation=\"relu\")`\n",
            "  \n",
            "/usr/local/lib/python3.6/dist-packages/ipykernel_launcher.py:9: UserWarning: Update your `Conv2D` call to the Keras 2 API: `Conv2D(16, (3, 3), activation=\"relu\")`\n",
            "  if __name__ == '__main__':\n",
            "/usr/local/lib/python3.6/dist-packages/ipykernel_launcher.py:10: UserWarning: Update your `Conv2D` call to the Keras 2 API: `Conv2D(16, (3, 3), activation=\"relu\")`\n",
            "  # Remove the CWD from sys.path while we load stuff.\n",
            "/usr/local/lib/python3.6/dist-packages/ipykernel_launcher.py:11: UserWarning: Update your `Conv2D` call to the Keras 2 API: `Conv2D(16, (3, 3), activation=\"relu\")`\n",
            "  # This is added back by InteractiveShellApp.init_path()\n",
            "/usr/local/lib/python3.6/dist-packages/ipykernel_launcher.py:12: UserWarning: Update your `Conv2D` call to the Keras 2 API: `Conv2D(16, (3, 3), activation=\"relu\")`\n",
            "  if sys.path[0] == '':\n"
          ],
          "name": "stderr"
        }
      ]
    },
    {
      "cell_type": "code",
      "metadata": {
        "id": "TzdAYg1k9K7Z",
        "colab_type": "code",
        "outputId": "b3b8cb54-8a14-49b5-f4ef-a75140728cc7",
        "colab": {
          "base_uri": "https://localhost:8080/",
          "height": 578
        }
      },
      "source": [
        "model.summary() ## create summary to see number of parameters are less than 20000"
      ],
      "execution_count": 0,
      "outputs": [
        {
          "output_type": "stream",
          "text": [
            "_________________________________________________________________\n",
            "Layer (type)                 Output Shape              Param #   \n",
            "=================================================================\n",
            "conv2d_27 (Conv2D)           (None, 26, 26, 16)        160       \n",
            "_________________________________________________________________\n",
            "conv2d_28 (Conv2D)           (None, 24, 24, 16)        2320      \n",
            "_________________________________________________________________\n",
            "conv2d_29 (Conv2D)           (None, 22, 22, 16)        2320      \n",
            "_________________________________________________________________\n",
            "conv2d_30 (Conv2D)           (None, 20, 20, 16)        2320      \n",
            "_________________________________________________________________\n",
            "conv2d_31 (Conv2D)           (None, 20, 20, 16)        272       \n",
            "_________________________________________________________________\n",
            "max_pooling2d_4 (MaxPooling2 (None, 10, 10, 16)        0         \n",
            "_________________________________________________________________\n",
            "conv2d_32 (Conv2D)           (None, 8, 8, 16)          2320      \n",
            "_________________________________________________________________\n",
            "conv2d_33 (Conv2D)           (None, 6, 6, 16)          2320      \n",
            "_________________________________________________________________\n",
            "conv2d_34 (Conv2D)           (None, 4, 4, 16)          2320      \n",
            "_________________________________________________________________\n",
            "conv2d_35 (Conv2D)           (None, 2, 2, 16)          2320      \n",
            "_________________________________________________________________\n",
            "conv2d_36 (Conv2D)           (None, 1, 1, 10)          650       \n",
            "_________________________________________________________________\n",
            "flatten_4 (Flatten)          (None, 10)                0         \n",
            "_________________________________________________________________\n",
            "activation_4 (Activation)    (None, 10)                0         \n",
            "=================================================================\n",
            "Total params: 17,322\n",
            "Trainable params: 17,322\n",
            "Non-trainable params: 0\n",
            "_________________________________________________________________\n"
          ],
          "name": "stdout"
        }
      ]
    },
    {
      "cell_type": "code",
      "metadata": {
        "id": "Zp6SuGrL9M3h",
        "colab_type": "code",
        "colab": {}
      },
      "source": [
        "model.compile(loss='categorical_crossentropy',\n",
        "             optimizer='adam',\n",
        "             metrics=['accuracy'])  ## Compile the model "
      ],
      "execution_count": 0,
      "outputs": []
    },
    {
      "cell_type": "markdown",
      "metadata": {
        "id": "ZejW74II0WQG",
        "colab_type": "text"
      },
      "source": [
        "**Train the model training and validation sets**"
      ]
    },
    {
      "cell_type": "code",
      "metadata": {
        "id": "dUFi9bjiOmqW",
        "colab_type": "code",
        "outputId": "deab4085-46e9-44b9-f427-f025d74bcf9f",
        "colab": {
          "base_uri": "https://localhost:8080/",
          "height": 714
        }
      },
      "source": [
        "model.fit_generator(IDG.flow(X_train, Y_train, batch_size=256),steps_per_epoch=len(X_train) / 32, epochs=20,verbose=1)"
      ],
      "execution_count": 0,
      "outputs": [
        {
          "output_type": "stream",
          "text": [
            "Epoch 1/20\n",
            "1875/1875 [==============================] - 102s 54ms/step - loss: 0.2633 - acc: 0.9167\n",
            "Epoch 2/20\n",
            "1875/1875 [==============================] - 100s 53ms/step - loss: 0.0947 - acc: 0.9712\n",
            "Epoch 3/20\n",
            "1875/1875 [==============================] - 102s 55ms/step - loss: 0.0666 - acc: 0.9798\n",
            "Epoch 4/20\n",
            "1875/1875 [==============================] - 101s 54ms/step - loss: 0.0533 - acc: 0.9837\n",
            "Epoch 5/20\n",
            "1875/1875 [==============================] - 102s 54ms/step - loss: 0.0457 - acc: 0.9860\n",
            "Epoch 6/20\n",
            "1875/1875 [==============================] - 102s 55ms/step - loss: 0.0409 - acc: 0.9874\n",
            "Epoch 7/20\n",
            "1875/1875 [==============================] - 102s 54ms/step - loss: 0.0363 - acc: 0.9888\n",
            "Epoch 8/20\n",
            "1875/1875 [==============================] - 100s 54ms/step - loss: 0.0342 - acc: 0.9894\n",
            "Epoch 9/20\n",
            "1875/1875 [==============================] - 104s 55ms/step - loss: 0.0321 - acc: 0.9902\n",
            "Epoch 10/20\n",
            "1875/1875 [==============================] - 102s 55ms/step - loss: 0.0294 - acc: 0.9909\n",
            "Epoch 11/20\n",
            "1875/1875 [==============================] - 101s 54ms/step - loss: 0.0284 - acc: 0.9912\n",
            "Epoch 12/20\n",
            "1875/1875 [==============================] - 102s 54ms/step - loss: 0.0271 - acc: 0.9915\n",
            "Epoch 13/20\n",
            "1875/1875 [==============================] - 102s 55ms/step - loss: 0.0258 - acc: 0.9920\n",
            "Epoch 14/20\n",
            "1875/1875 [==============================] - 99s 53ms/step - loss: 0.0245 - acc: 0.9923\n",
            "Epoch 15/20\n",
            "1875/1875 [==============================] - 100s 53ms/step - loss: 0.0241 - acc: 0.9924\n",
            "Epoch 16/20\n",
            "1875/1875 [==============================] - 100s 53ms/step - loss: 0.0234 - acc: 0.9926\n",
            "Epoch 17/20\n",
            "1875/1875 [==============================] - 100s 53ms/step - loss: 0.0219 - acc: 0.9931\n",
            "Epoch 18/20\n",
            "1875/1875 [==============================] - 101s 54ms/step - loss: 0.0214 - acc: 0.9932\n",
            "Epoch 19/20\n",
            "1875/1875 [==============================] - 106s 56ms/step - loss: 0.0209 - acc: 0.9934\n",
            "Epoch 20/20\n",
            "1875/1875 [==============================] - 103s 55ms/step - loss: 0.0210 - acc: 0.9933\n"
          ],
          "name": "stdout"
        },
        {
          "output_type": "execute_result",
          "data": {
            "text/plain": [
              "<keras.callbacks.History at 0x7fd5beb417f0>"
            ]
          },
          "metadata": {
            "tags": []
          },
          "execution_count": 58
        }
      ]
    },
    {
      "cell_type": "code",
      "metadata": {
        "id": "AtsH-lLk-eLb",
        "colab_type": "code",
        "colab": {}
      },
      "source": [
        "score = model.evaluate(X_test, Y_test, verbose=0) ## Evaluate the model"
      ],
      "execution_count": 0,
      "outputs": []
    },
    {
      "cell_type": "code",
      "metadata": {
        "id": "mkX8JMv79q9r",
        "colab_type": "code",
        "outputId": "fa79a06a-e575-4d1b-ef4c-e550de19535c",
        "colab": {
          "base_uri": "https://localhost:8080/",
          "height": 34
        }
      },
      "source": [
        "print(score) ## print the validation accuracy"
      ],
      "execution_count": 0,
      "outputs": [
        {
          "output_type": "stream",
          "text": [
            "[0.018241705781871134, 0.9947]\n"
          ],
          "name": "stdout"
        }
      ]
    },
    {
      "cell_type": "code",
      "metadata": {
        "id": "OCWoJkwE9suh",
        "colab_type": "code",
        "colab": {}
      },
      "source": [
        "y_pred = model.predict(X_test) ## use model to do prediction"
      ],
      "execution_count": 0,
      "outputs": []
    },
    {
      "cell_type": "code",
      "metadata": {
        "id": "Ym7iCFBm9uBs",
        "colab_type": "code",
        "outputId": "f46ee829-6d84-4a87-ee36-45a91183fe8e",
        "colab": {
          "base_uri": "https://localhost:8080/",
          "height": 340
        }
      },
      "source": [
        "print(y_pred[:9])\n",
        "print(y_test[:9])"
      ],
      "execution_count": 0,
      "outputs": [
        {
          "output_type": "stream",
          "text": [
            "[[4.7214710e-12 2.4099273e-07 3.0612355e-08 6.0059642e-09 1.6207794e-07\n",
            "  2.5173616e-10 2.5627299e-15 9.9999869e-01 1.4437826e-07 7.9645895e-07]\n",
            " [5.4463478e-09 4.4856591e-10 9.9999976e-01 8.6979035e-11 2.1392964e-07\n",
            "  4.8822071e-12 8.3678762e-09 9.7787743e-11 8.4364943e-10 3.3055323e-09]\n",
            " [6.6479398e-11 9.9999499e-01 2.3426830e-06 2.6378190e-11 2.9542542e-07\n",
            "  3.2682479e-08 2.1939888e-08 2.3260757e-06 4.5142359e-10 6.0644587e-11]\n",
            " [9.9995458e-01 1.2543867e-15 2.8591431e-08 5.9382792e-09 4.8232091e-10\n",
            "  7.3548989e-09 6.3627044e-06 1.0545578e-12 3.9256947e-06 3.5136432e-05]\n",
            " [1.8795657e-13 2.7409836e-08 6.2282478e-11 2.1732584e-14 9.9932420e-01\n",
            "  4.5267654e-10 6.4180384e-08 6.6771770e-09 6.5351113e-10 6.7567825e-04]\n",
            " [1.0782871e-12 9.9999952e-01 2.1622274e-07 3.8227993e-13 5.2540394e-09\n",
            "  1.8490013e-09 2.6807434e-09 2.5273721e-07 1.3912647e-11 2.2876677e-12]\n",
            " [1.3030883e-14 1.1801427e-06 7.4504720e-13 1.3080951e-08 9.9534398e-01\n",
            "  1.5286614e-05 4.3711566e-11 1.4059612e-08 6.6284275e-07 4.6387883e-03]\n",
            " [6.0091109e-13 1.8696789e-15 3.6387521e-12 2.2776184e-10 9.4582353e-10\n",
            "  1.0139631e-11 1.1908842e-11 1.5525202e-09 7.2779316e-10 1.0000000e+00]\n",
            " [5.1742330e-09 3.6230666e-19 4.1256518e-09 1.3145499e-08 1.7068326e-11\n",
            "  3.5882667e-01 6.4117163e-01 1.1519290e-14 1.6038058e-06 1.7180570e-07]]\n",
            "[7 2 1 0 4 1 4 9 5]\n"
          ],
          "name": "stdout"
        }
      ]
    },
    {
      "cell_type": "code",
      "metadata": {
        "id": "CT--y98_dr2T",
        "colab_type": "code",
        "colab": {}
      },
      "source": [
        "layer_dict = dict([(layer.name, layer) for layer in model.layers])"
      ],
      "execution_count": 0,
      "outputs": []
    },
    {
      "cell_type": "code",
      "metadata": {
        "id": "2GY4Upv4dsUR",
        "colab_type": "code",
        "outputId": "83e54a98-f856-4e14-89cb-42f94b0328b3",
        "colab": {
          "base_uri": "https://localhost:8080/",
          "height": 741
        }
      },
      "source": [
        "import numpy as np\n",
        "from matplotlib import pyplot as plt\n",
        "from keras import backend as K\n",
        "%matplotlib inline\n",
        "# util function to convert a tensor into a valid image\n",
        "def deprocess_image(x):\n",
        "    # normalize tensor: center on 0., ensure std is 0.1\n",
        "    x -= x.mean()\n",
        "    x /= (x.std() + 1e-5)\n",
        "    x *= 0.1\n",
        "\n",
        "    # clip to [0, 1]\n",
        "    x += 0.5\n",
        "    x = np.clip(x, 0, 1)\n",
        "\n",
        "    # convert to RGB array\n",
        "    x *= 255\n",
        "    #x = x.transpose((1, 2, 0))\n",
        "    x = np.clip(x, 0, 255).astype('uint8')\n",
        "    return x\n",
        "\n",
        "def vis_img_in_filter(img = np.array(X_train[2]).reshape((1, 28, 28, 1)).astype(np.float64), \n",
        "                      layer_name = 'conv2d_14'):\n",
        "    layer_output = layer_dict[layer_name].output\n",
        "    img_ascs = list()\n",
        "    for filter_index in range(layer_output.shape[3]):\n",
        "        # build a loss function that maximizes the activation\n",
        "        # of the nth filter of the layer considered\n",
        "        loss = K.mean(layer_output[:, :, :, filter_index])\n",
        "\n",
        "        # compute the gradient of the input picture wrt this loss\n",
        "        grads = K.gradients(loss, model.input)[0]\n",
        "\n",
        "        # normalization trick: we normalize the gradient\n",
        "        grads /= (K.sqrt(K.mean(K.square(grads))) + 1e-5)\n",
        "\n",
        "        # this function returns the loss and grads given the input picture\n",
        "        iterate = K.function([model.input], [loss, grads])\n",
        "\n",
        "        # step size for gradient ascent\n",
        "        step = 5.\n",
        "\n",
        "        img_asc = np.array(img)\n",
        "        # run gradient ascent for 20 steps\n",
        "        for i in range(20):\n",
        "            loss_value, grads_value = iterate([img_asc])\n",
        "            img_asc += grads_value * step\n",
        "\n",
        "        img_asc = img_asc[0]\n",
        "        img_ascs.append(deprocess_image(img_asc).reshape((28, 28)))\n",
        "        \n",
        "    if layer_output.shape[3] >= 35:\n",
        "        plot_x, plot_y = 6, 6\n",
        "    elif layer_output.shape[3] >= 23:\n",
        "        plot_x, plot_y = 4, 6\n",
        "    elif layer_output.shape[3] >= 11:\n",
        "        plot_x, plot_y = 2, 6\n",
        "    else:\n",
        "        plot_x, plot_y = 1, 2\n",
        "    fig, ax = plt.subplots(plot_x, plot_y, figsize = (12, 12))\n",
        "    ax[0, 0].imshow(img.reshape((28, 28)), cmap = 'gray')\n",
        "    ax[0, 0].set_title('Input image')\n",
        "    fig.suptitle('Input image and %s filters' % (layer_name,))\n",
        "    fig.tight_layout(pad = 0.3, rect = [0, 0, 0.9, 0.9])\n",
        "    for (x, y) in [(i, j) for i in range(plot_x) for j in range(plot_y)]:\n",
        "        if x == 0 and y == 0:\n",
        "            continue\n",
        "        ax[x, y].imshow(img_ascs[x * plot_y + y - 1], cmap = 'gray')\n",
        "        ax[x, y].set_title('filter %d' % (x * plot_y + y - 1))\n",
        "\n",
        "vis_img_in_filter()"
      ],
      "execution_count": 0,
      "outputs": [
        {
          "output_type": "display_data",
          "data": {
            "image/png": "[encoded data removed]",
            "text/plain": [
              "<Figure size 864x864 with 12 Axes>"
            ]
          },
          "metadata": {
            "tags": []
          }
        }
      ]
    },
    {
      "cell_type": "code",
      "metadata": {
        "id": "9tvptcn8dxvp",
        "colab_type": "code",
        "colab": {}
      },
      "source": [
        ""
      ],
      "execution_count": 0,
      "outputs": []
    }
  ]
}