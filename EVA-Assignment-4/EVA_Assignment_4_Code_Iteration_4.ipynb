{
  "nbformat": 4,
  "nbformat_minor": 0,
  "metadata": {
    "colab": {
      "name": "EVA Assignment 4 - Code Iteration-4.ipynb",
      "version": "0.3.2",
      "provenance": [],
      "collapsed_sections": []
    },
    "kernelspec": {
      "name": "python3",
      "display_name": "Python 3"
    },
    "accelerator": "GPU"
  },
  "cells": [
    {
      "cell_type": "markdown",
      "metadata": {
        "id": "ns64HDt7YJR7",
        "colab_type": "text"
      },
      "source": [
        "Create a code iteration for predicting mnist data set. This is the fourth code iteration. This is going to be a final network with Learning rate scheduler introduced"
      ]
    },
    {
      "cell_type": "markdown",
      "metadata": {
        "id": "ve_53sptew3Q",
        "colab_type": "text"
      },
      "source": [
        "***Observations:  ***\n",
        "\n",
        "We got 14.632K parameters out of which 252 are non-trainable. Batch size is 512. We trained this network for 60 epochs.  Each epoc took 4 sec to execute. Training loss is between 0.0481  and 0.000092082 . Validation loss is between 0.1023 and 0.0328.  Training accuracy reached max of 100%. Validation accuracy achieved is lying between 98.03 to 99.42. "
      ]
    },
    {
      "cell_type": "markdown",
      "metadata": {
        "id": "aNyZv-Ec52ot",
        "colab_type": "text"
      },
      "source": [
        "# **Import Libraries and modules**"
      ]
    },
    {
      "cell_type": "markdown",
      "metadata": {
        "id": "qmBby3tJljz1",
        "colab_type": "text"
      },
      "source": [
        "**Download and install Keras**"
      ]
    },
    {
      "cell_type": "code",
      "metadata": {
        "id": "3m3w1Cw49Zkt",
        "colab_type": "code",
        "colab": {}
      },
      "source": [
        "# https://keras.io/\n",
        "!pip install -q keras\n",
        "import keras"
      ],
      "execution_count": 0,
      "outputs": []
    },
    {
      "cell_type": "markdown",
      "metadata": {
        "id": "GpIrsjc2ltkR",
        "colab_type": "text"
      },
      "source": [
        "**Import mnist dataset, layers, utilities and data augmentation tools**"
      ]
    },
    {
      "cell_type": "code",
      "metadata": {
        "id": "Eso6UHE080D4",
        "colab_type": "code",
        "colab": {}
      },
      "source": [
        "import numpy as np\n",
        "\n",
        "from keras.models import Sequential\n",
        "from keras.layers import Dense, Dropout, Activation, Flatten, Add, BatchNormalization\n",
        "from keras.layers import Convolution2D, MaxPooling2D\n",
        "from keras.utils import np_utils\n",
        "from keras.preprocessing.image import ImageDataGenerator\n",
        "from keras.callbacks import LearningRateScheduler\n",
        "from keras import optimizers\n",
        "\n",
        "from keras.datasets import mnist"
      ],
      "execution_count": 0,
      "outputs": []
    },
    {
      "cell_type": "markdown",
      "metadata": {
        "id": "zByEi95J86RD",
        "colab_type": "text"
      },
      "source": [
        "### Load pre-shuffled MNIST data into train and test sets"
      ]
    },
    {
      "cell_type": "code",
      "metadata": {
        "id": "7eRM0QWN83PV",
        "colab_type": "code",
        "colab": {}
      },
      "source": [
        "(X_train, y_train), (X_test, y_test) = mnist.load_data()"
      ],
      "execution_count": 0,
      "outputs": []
    },
    {
      "cell_type": "markdown",
      "metadata": {
        "id": "KqYmf1QznnSF",
        "colab_type": "text"
      },
      "source": [
        "**Print Dimensions of the train dataset. And print first image from train dataset**"
      ]
    },
    {
      "cell_type": "code",
      "metadata": {
        "id": "4a4Be72j8-ZC",
        "colab_type": "code",
        "outputId": "20961a65-da11-41b0-8140-d8d8ddfcdbc1",
        "colab": {
          "base_uri": "https://localhost:8080/",
          "height": 303
        }
      },
      "source": [
        "print (X_train.shape)\n",
        "from matplotlib import pyplot as plt\n",
        "%matplotlib inline\n",
        "plt.imshow(X_train[0])"
      ],
      "execution_count": 0,
      "outputs": [
        {
          "output_type": "stream",
          "text": [
            "(60000, 28, 28)\n"
          ],
          "name": "stdout"
        },
        {
          "output_type": "execute_result",
          "data": {
            "text/plain": [
              "<matplotlib.image.AxesImage at 0x7f60062b3358>"
            ]
          },
          "metadata": {
            "tags": []
          },
          "execution_count": 22
        },
        {
          "output_type": "display_data",
          "data": {
            "image/png": "[encoded data removed]",
            "text/plain": [
              "<Figure size 432x288 with 1 Axes>"
            ]
          },
          "metadata": {
            "tags": []
          }
        }
      ]
    },
    {
      "cell_type": "markdown",
      "metadata": {
        "id": "wm3bsvH3npO0",
        "colab_type": "text"
      },
      "source": [
        "**Reshape data into (28,28,1) array**"
      ]
    },
    {
      "cell_type": "code",
      "metadata": {
        "id": "dkmprriw9AnZ",
        "colab_type": "code",
        "colab": {}
      },
      "source": [
        "X_train = X_train.reshape(X_train.shape[0], 28, 28,1)\n",
        "X_test = X_test.reshape(X_test.shape[0], 28, 28,1)"
      ],
      "execution_count": 0,
      "outputs": []
    },
    {
      "cell_type": "markdown",
      "metadata": {
        "id": "1p1x5dcBn67N",
        "colab_type": "text"
      },
      "source": [
        "**Normalize Data**"
      ]
    },
    {
      "cell_type": "code",
      "metadata": {
        "id": "X2m4YS4E9CRh",
        "colab_type": "code",
        "colab": {}
      },
      "source": [
        "X_train = X_train.astype('float32')\n",
        "X_test = X_test.astype('float32')\n",
        "X_train /= 255\n",
        "X_test /= 255"
      ],
      "execution_count": 0,
      "outputs": []
    },
    {
      "cell_type": "markdown",
      "metadata": {
        "id": "DadS0gYLoFfo",
        "colab_type": "text"
      },
      "source": [
        "**Print Sample Data**"
      ]
    },
    {
      "cell_type": "code",
      "metadata": {
        "id": "0Mn0vAYD9DvB",
        "colab_type": "code",
        "outputId": "89d35895-8690-4fac-b355-43ede6eb0839",
        "colab": {
          "base_uri": "https://localhost:8080/",
          "height": 34
        }
      },
      "source": [
        "y_train[:10]"
      ],
      "execution_count": 0,
      "outputs": [
        {
          "output_type": "execute_result",
          "data": {
            "text/plain": [
              "array([5, 0, 4, 1, 9, 2, 1, 3, 1, 4], dtype=uint8)"
            ]
          },
          "metadata": {
            "tags": []
          },
          "execution_count": 25
        }
      ]
    },
    {
      "cell_type": "code",
      "metadata": {
        "id": "ZG8JiXR39FHC",
        "colab_type": "code",
        "colab": {}
      },
      "source": [
        "# Convert 1-dimensional class arrays to 10-dimensional class matrices\n",
        "Y_train = np_utils.to_categorical(y_train, 10)\n",
        "Y_test = np_utils.to_categorical(y_test, 10)"
      ],
      "execution_count": 0,
      "outputs": []
    },
    {
      "cell_type": "code",
      "metadata": {
        "id": "fYlFRvKS9HMB",
        "colab_type": "code",
        "outputId": "3db0e394-3e8d-427d-fe85-16b12c6abf67",
        "colab": {
          "base_uri": "https://localhost:8080/",
          "height": 187
        }
      },
      "source": [
        "Y_train[:10]\n"
      ],
      "execution_count": 0,
      "outputs": [
        {
          "output_type": "execute_result",
          "data": {
            "text/plain": [
              "array([[0., 0., 0., 0., 0., 1., 0., 0., 0., 0.],\n",
              "       [1., 0., 0., 0., 0., 0., 0., 0., 0., 0.],\n",
              "       [0., 0., 0., 0., 1., 0., 0., 0., 0., 0.],\n",
              "       [0., 1., 0., 0., 0., 0., 0., 0., 0., 0.],\n",
              "       [0., 0., 0., 0., 0., 0., 0., 0., 0., 1.],\n",
              "       [0., 0., 1., 0., 0., 0., 0., 0., 0., 0.],\n",
              "       [0., 1., 0., 0., 0., 0., 0., 0., 0., 0.],\n",
              "       [0., 0., 0., 1., 0., 0., 0., 0., 0., 0.],\n",
              "       [0., 1., 0., 0., 0., 0., 0., 0., 0., 0.],\n",
              "       [0., 0., 0., 0., 1., 0., 0., 0., 0., 0.]], dtype=float32)"
            ]
          },
          "metadata": {
            "tags": []
          },
          "execution_count": 27
        }
      ]
    },
    {
      "cell_type": "markdown",
      "metadata": {
        "id": "fDspxhpjoMIH",
        "colab_type": "text"
      },
      "source": [
        "**Data Preprocessing - Define Data Augmentation Stratagy using ImageDataGenerator Class**"
      ]
    },
    {
      "cell_type": "markdown",
      "metadata": {
        "id": "3Bat6ffQsNv_",
        "colab_type": "text"
      },
      "source": [
        "**Fits the data generator to some sample data.**"
      ]
    },
    {
      "cell_type": "markdown",
      "metadata": {
        "id": "YB9WyTLtsSwg",
        "colab_type": "text"
      },
      "source": [
        "**Define a new architecture by using a sequential model.**"
      ]
    },
    {
      "cell_type": "code",
      "metadata": {
        "id": "q0aC9g41Wwr4",
        "colab_type": "code",
        "outputId": "73f731ee-e328-4ce2-c0e1-9dfdea508cc3",
        "colab": {
          "base_uri": "https://localhost:8080/",
          "height": 275
        }
      },
      "source": [
        "from keras.layers import Activation\n",
        "model = Sequential()\n",
        "\n",
        "model.add(Convolution2D(10, 3, 3, activation='relu', input_shape=(28,28,1))) # 26 3X3\n",
        "model.add(BatchNormalization())\n",
        "\n",
        "model.add(Convolution2D(16, 3, 3, activation='relu')) # 24 5X5\n",
        "model.add(BatchNormalization())\n",
        "model.add(Convolution2D(16, 3, 3, activation='relu')) # 22 7X7\n",
        "model.add(BatchNormalization())\n",
        "model.add(Convolution2D(10, 3, 3, activation='relu')) # 20 9X9\n",
        "model.add(BatchNormalization())\n",
        "model.add(Convolution2D(16, 3, 3, activation='relu')) # 18 11X11\n",
        "model.add(BatchNormalization())\n",
        "\n",
        "model.add(Dropout(0.025))\n",
        "\n",
        "model.add(MaxPooling2D(pool_size=(2, 2))) # 9 22X22\n",
        "model.add(Convolution2D(10, 1, 1, activation='relu')) #  7 24X24\n",
        "model.add(BatchNormalization())\n",
        "\n",
        "model.add(Convolution2D(16, 3, 3, activation='relu')) # 5 26X26\n",
        "model.add(BatchNormalization())\n",
        "model.add(Convolution2D(16, 3, 3, activation='relu')) #  3 28X28\n",
        "model.add(BatchNormalization())\n",
        "model.add(Dropout(0.025))\n",
        "\n",
        "\n",
        "model.add(Convolution2D(16, 3, 3, activation='relu')) \n",
        "model.add(BatchNormalization())\n",
        "model.add(Convolution2D(10, 1, activation='relu')) \n",
        "\n",
        "model.add(Convolution2D(10, 3))\n",
        "model.add(Flatten())\n",
        "model.add(Activation('softmax'))"
      ],
      "execution_count": 0,
      "outputs": [
        {
          "output_type": "stream",
          "text": [
            "/usr/local/lib/python3.6/dist-packages/ipykernel_launcher.py:4: UserWarning: Update your `Conv2D` call to the Keras 2 API: `Conv2D(10, (3, 3), activation=\"relu\", input_shape=(28, 28, 1...)`\n",
            "  after removing the cwd from sys.path.\n",
            "/usr/local/lib/python3.6/dist-packages/ipykernel_launcher.py:7: UserWarning: Update your `Conv2D` call to the Keras 2 API: `Conv2D(16, (3, 3), activation=\"relu\")`\n",
            "  import sys\n",
            "/usr/local/lib/python3.6/dist-packages/ipykernel_launcher.py:9: UserWarning: Update your `Conv2D` call to the Keras 2 API: `Conv2D(16, (3, 3), activation=\"relu\")`\n",
            "  if __name__ == '__main__':\n",
            "/usr/local/lib/python3.6/dist-packages/ipykernel_launcher.py:11: UserWarning: Update your `Conv2D` call to the Keras 2 API: `Conv2D(10, (3, 3), activation=\"relu\")`\n",
            "  # This is added back by InteractiveShellApp.init_path()\n",
            "/usr/local/lib/python3.6/dist-packages/ipykernel_launcher.py:13: UserWarning: Update your `Conv2D` call to the Keras 2 API: `Conv2D(16, (3, 3), activation=\"relu\")`\n",
            "  del sys.path[0]\n",
            "/usr/local/lib/python3.6/dist-packages/ipykernel_launcher.py:19: UserWarning: Update your `Conv2D` call to the Keras 2 API: `Conv2D(10, (1, 1), activation=\"relu\")`\n",
            "/usr/local/lib/python3.6/dist-packages/ipykernel_launcher.py:22: UserWarning: Update your `Conv2D` call to the Keras 2 API: `Conv2D(16, (3, 3), activation=\"relu\")`\n",
            "/usr/local/lib/python3.6/dist-packages/ipykernel_launcher.py:24: UserWarning: Update your `Conv2D` call to the Keras 2 API: `Conv2D(16, (3, 3), activation=\"relu\")`\n",
            "/usr/local/lib/python3.6/dist-packages/ipykernel_launcher.py:29: UserWarning: Update your `Conv2D` call to the Keras 2 API: `Conv2D(16, (3, 3), activation=\"relu\")`\n"
          ],
          "name": "stderr"
        }
      ]
    },
    {
      "cell_type": "code",
      "metadata": {
        "id": "TzdAYg1k9K7Z",
        "colab_type": "code",
        "outputId": "33fd2bb5-7ebd-44d0-d4bc-6644cfc932d5",
        "colab": {
          "base_uri": "https://localhost:8080/",
          "height": 986
        }
      },
      "source": [
        "model.summary() ## create summary to see number of parameters are less than 20000"
      ],
      "execution_count": 0,
      "outputs": [
        {
          "output_type": "stream",
          "text": [
            "_________________________________________________________________\n",
            "Layer (type)                 Output Shape              Param #   \n",
            "=================================================================\n",
            "conv2d_65 (Conv2D)           (None, 26, 26, 10)        100       \n",
            "_________________________________________________________________\n",
            "batch_normalization_53 (Batc (None, 26, 26, 10)        40        \n",
            "_________________________________________________________________\n",
            "conv2d_66 (Conv2D)           (None, 24, 24, 16)        1456      \n",
            "_________________________________________________________________\n",
            "batch_normalization_54 (Batc (None, 24, 24, 16)        64        \n",
            "_________________________________________________________________\n",
            "conv2d_67 (Conv2D)           (None, 22, 22, 16)        2320      \n",
            "_________________________________________________________________\n",
            "batch_normalization_55 (Batc (None, 22, 22, 16)        64        \n",
            "_________________________________________________________________\n",
            "conv2d_68 (Conv2D)           (None, 20, 20, 10)        1450      \n",
            "_________________________________________________________________\n",
            "batch_normalization_56 (Batc (None, 20, 20, 10)        40        \n",
            "_________________________________________________________________\n",
            "conv2d_69 (Conv2D)           (None, 18, 18, 16)        1456      \n",
            "_________________________________________________________________\n",
            "batch_normalization_57 (Batc (None, 18, 18, 16)        64        \n",
            "_________________________________________________________________\n",
            "dropout_13 (Dropout)         (None, 18, 18, 16)        0         \n",
            "_________________________________________________________________\n",
            "max_pooling2d_7 (MaxPooling2 (None, 9, 9, 16)          0         \n",
            "_________________________________________________________________\n",
            "conv2d_70 (Conv2D)           (None, 9, 9, 10)          170       \n",
            "_________________________________________________________________\n",
            "batch_normalization_58 (Batc (None, 9, 9, 10)          40        \n",
            "_________________________________________________________________\n",
            "conv2d_71 (Conv2D)           (None, 7, 7, 16)          1456      \n",
            "_________________________________________________________________\n",
            "batch_normalization_59 (Batc (None, 7, 7, 16)          64        \n",
            "_________________________________________________________________\n",
            "conv2d_72 (Conv2D)           (None, 5, 5, 16)          2320      \n",
            "_________________________________________________________________\n",
            "batch_normalization_60 (Batc (None, 5, 5, 16)          64        \n",
            "_________________________________________________________________\n",
            "dropout_14 (Dropout)         (None, 5, 5, 16)          0         \n",
            "_________________________________________________________________\n",
            "conv2d_73 (Conv2D)           (None, 3, 3, 16)          2320      \n",
            "_________________________________________________________________\n",
            "batch_normalization_61 (Batc (None, 3, 3, 16)          64        \n",
            "_________________________________________________________________\n",
            "conv2d_74 (Conv2D)           (None, 3, 3, 10)          170       \n",
            "_________________________________________________________________\n",
            "conv2d_75 (Conv2D)           (None, 1, 1, 10)          910       \n",
            "_________________________________________________________________\n",
            "flatten_6 (Flatten)          (None, 10)                0         \n",
            "_________________________________________________________________\n",
            "activation_6 (Activation)    (None, 10)                0         \n",
            "=================================================================\n",
            "Total params: 14,632\n",
            "Trainable params: 14,380\n",
            "Non-trainable params: 252\n",
            "_________________________________________________________________\n"
          ],
          "name": "stdout"
        }
      ]
    },
    {
      "cell_type": "markdown",
      "metadata": {
        "id": "ZejW74II0WQG",
        "colab_type": "text"
      },
      "source": [
        "**Train the model training and validation sets**"
      ]
    },
    {
      "cell_type": "code",
      "metadata": {
        "colab_type": "code",
        "id": "u-A6lfr4p4dn",
        "colab": {}
      },
      "source": [
        "def scheduler(epoch, lr):\n",
        "  return round(0.007 * 1/(1 + 0.121 * epoch), 10)"
      ],
      "execution_count": 0,
      "outputs": []
    },
    {
      "cell_type": "code",
      "metadata": {
        "colab_type": "code",
        "id": "Ns-oWDEFp4dy",
        "colab": {}
      },
      "source": [
        "adam = optimizers.Adam(lr=0.007)"
      ],
      "execution_count": 0,
      "outputs": []
    },
    {
      "cell_type": "code",
      "metadata": {
        "colab_type": "code",
        "id": "djVYIdfop4d-",
        "colab": {}
      },
      "source": [
        "model.compile(loss='categorical_crossentropy', optimizer=adam, metrics=['accuracy'])"
      ],
      "execution_count": 0,
      "outputs": []
    },
    {
      "cell_type": "code",
      "metadata": {
        "colab_type": "code",
        "outputId": "591919cb-443e-44d1-e0bf-704548635d25",
        "id": "nZ9C89dEp4eD",
        "colab": {
          "base_uri": "https://localhost:8080/",
          "height": 4131
        }
      },
      "source": [
        "model.fit(X_train, Y_train, batch_size=512, epochs=60, verbose=1, validation_data=(X_test, Y_test), callbacks=[LearningRateScheduler(scheduler, verbose=1)])"
      ],
      "execution_count": 0,
      "outputs": [
        {
          "output_type": "stream",
          "text": [
            "Train on 60000 samples, validate on 10000 samples\n",
            "Epoch 1/60\n",
            "\n",
            "Epoch 00001: LearningRateScheduler setting learning rate to 0.007.\n",
            "60000/60000 [==============================] - 9s 153us/step - loss: 0.0481 - acc: 0.9877 - val_loss: 0.1023 - val_acc: 0.9803\n",
            "Epoch 2/60\n",
            "\n",
            "Epoch 00002: LearningRateScheduler setting learning rate to 0.0062444246.\n",
            "60000/60000 [==============================] - 4s 59us/step - loss: 0.0235 - acc: 0.9927 - val_loss: 0.0560 - val_acc: 0.9857\n",
            "Epoch 3/60\n",
            "\n",
            "Epoch 00003: LearningRateScheduler setting learning rate to 0.0056360709.\n",
            "60000/60000 [==============================] - 4s 61us/step - loss: 0.0137 - acc: 0.9952 - val_loss: 0.0396 - val_acc: 0.9890\n",
            "Epoch 4/60\n",
            "\n",
            "Epoch 00004: LearningRateScheduler setting learning rate to 0.00513573.\n",
            "60000/60000 [==============================] - 4s 61us/step - loss: 0.0118 - acc: 0.9961 - val_loss: 0.0379 - val_acc: 0.9900\n",
            "Epoch 5/60\n",
            "\n",
            "Epoch 00005: LearningRateScheduler setting learning rate to 0.0047169811.\n",
            "60000/60000 [==============================] - 4s 60us/step - loss: 0.0116 - acc: 0.9959 - val_loss: 0.0435 - val_acc: 0.9888\n",
            "Epoch 6/60\n",
            "\n",
            "Epoch 00006: LearningRateScheduler setting learning rate to 0.0043613707.\n",
            "60000/60000 [==============================] - 4s 59us/step - loss: 0.0104 - acc: 0.9967 - val_loss: 0.0446 - val_acc: 0.9888\n",
            "Epoch 7/60\n",
            "\n",
            "Epoch 00007: LearningRateScheduler setting learning rate to 0.0040556199.\n",
            "60000/60000 [==============================] - 4s 59us/step - loss: 0.0079 - acc: 0.9974 - val_loss: 0.0342 - val_acc: 0.9923\n",
            "Epoch 8/60\n",
            "\n",
            "Epoch 00008: LearningRateScheduler setting learning rate to 0.0037899296.\n",
            "60000/60000 [==============================] - 4s 59us/step - loss: 0.0062 - acc: 0.9978 - val_loss: 0.0383 - val_acc: 0.9897\n",
            "Epoch 9/60\n",
            "\n",
            "Epoch 00009: LearningRateScheduler setting learning rate to 0.0035569106.\n",
            "60000/60000 [==============================] - 4s 60us/step - loss: 0.0046 - acc: 0.9985 - val_loss: 0.0328 - val_acc: 0.9922\n",
            "Epoch 10/60\n",
            "\n",
            "Epoch 00010: LearningRateScheduler setting learning rate to 0.0033508856.\n",
            "60000/60000 [==============================] - 4s 60us/step - loss: 0.0054 - acc: 0.9981 - val_loss: 0.0390 - val_acc: 0.9912\n",
            "Epoch 11/60\n",
            "\n",
            "Epoch 00011: LearningRateScheduler setting learning rate to 0.0031674208.\n",
            "60000/60000 [==============================] - 4s 59us/step - loss: 0.0059 - acc: 0.9978 - val_loss: 0.0379 - val_acc: 0.9915\n",
            "Epoch 12/60\n",
            "\n",
            "Epoch 00012: LearningRateScheduler setting learning rate to 0.003003003.\n",
            "60000/60000 [==============================] - 4s 59us/step - loss: 0.0051 - acc: 0.9984 - val_loss: 0.0388 - val_acc: 0.9912\n",
            "Epoch 13/60\n",
            "\n",
            "Epoch 00013: LearningRateScheduler setting learning rate to 0.0028548124.\n",
            "60000/60000 [==============================] - 4s 59us/step - loss: 0.0038 - acc: 0.9988 - val_loss: 0.0425 - val_acc: 0.9909\n",
            "Epoch 14/60\n",
            "\n",
            "Epoch 00014: LearningRateScheduler setting learning rate to 0.0027205597.\n",
            "60000/60000 [==============================] - 4s 61us/step - loss: 0.0034 - acc: 0.9991 - val_loss: 0.0392 - val_acc: 0.9915\n",
            "Epoch 15/60\n",
            "\n",
            "Epoch 00015: LearningRateScheduler setting learning rate to 0.0025983667.\n",
            "60000/60000 [==============================] - 4s 60us/step - loss: 0.0039 - acc: 0.9985 - val_loss: 0.0488 - val_acc: 0.9905\n",
            "Epoch 16/60\n",
            "\n",
            "Epoch 00016: LearningRateScheduler setting learning rate to 0.0024866785.\n",
            "60000/60000 [==============================] - 4s 59us/step - loss: 0.0039 - acc: 0.9986 - val_loss: 0.0471 - val_acc: 0.9892\n",
            "Epoch 17/60\n",
            "\n",
            "Epoch 00017: LearningRateScheduler setting learning rate to 0.0023841962.\n",
            "60000/60000 [==============================] - 4s 59us/step - loss: 0.0044 - acc: 0.9986 - val_loss: 0.0435 - val_acc: 0.9920\n",
            "Epoch 18/60\n",
            "\n",
            "Epoch 00018: LearningRateScheduler setting learning rate to 0.0022898266.\n",
            "60000/60000 [==============================] - 4s 59us/step - loss: 0.0104 - acc: 0.9967 - val_loss: 0.0401 - val_acc: 0.9904\n",
            "Epoch 19/60\n",
            "\n",
            "Epoch 00019: LearningRateScheduler setting learning rate to 0.0022026432.\n",
            "60000/60000 [==============================] - 4s 59us/step - loss: 0.0042 - acc: 0.9988 - val_loss: 0.0335 - val_acc: 0.9927\n",
            "Epoch 20/60\n",
            "\n",
            "Epoch 00020: LearningRateScheduler setting learning rate to 0.0021218551.\n",
            "60000/60000 [==============================] - 4s 58us/step - loss: 0.0026 - acc: 0.9991 - val_loss: 0.0407 - val_acc: 0.9921\n",
            "Epoch 21/60\n",
            "\n",
            "Epoch 00021: LearningRateScheduler setting learning rate to 0.0020467836.\n",
            "60000/60000 [==============================] - 4s 59us/step - loss: 0.0012 - acc: 0.9997 - val_loss: 0.0379 - val_acc: 0.9924\n",
            "Epoch 22/60\n",
            "\n",
            "Epoch 00022: LearningRateScheduler setting learning rate to 0.0019768427.\n",
            "60000/60000 [==============================] - 4s 58us/step - loss: 8.7513e-04 - acc: 0.9998 - val_loss: 0.0392 - val_acc: 0.9927\n",
            "Epoch 23/60\n",
            "\n",
            "Epoch 00023: LearningRateScheduler setting learning rate to 0.0019115238.\n",
            "60000/60000 [==============================] - 4s 58us/step - loss: 0.0017 - acc: 0.9993 - val_loss: 0.0381 - val_acc: 0.9930\n",
            "Epoch 24/60\n",
            "\n",
            "Epoch 00024: LearningRateScheduler setting learning rate to 0.0018503833.\n",
            "60000/60000 [==============================] - 4s 59us/step - loss: 5.7288e-04 - acc: 0.9999 - val_loss: 0.0347 - val_acc: 0.9927\n",
            "Epoch 25/60\n",
            "\n",
            "Epoch 00025: LearningRateScheduler setting learning rate to 0.0017930328.\n",
            "60000/60000 [==============================] - 4s 60us/step - loss: 9.1735e-04 - acc: 0.9997 - val_loss: 0.0390 - val_acc: 0.9915\n",
            "Epoch 26/60\n",
            "\n",
            "Epoch 00026: LearningRateScheduler setting learning rate to 0.0017391304.\n",
            "60000/60000 [==============================] - 4s 60us/step - loss: 3.8742e-04 - acc: 1.0000 - val_loss: 0.0358 - val_acc: 0.9927\n",
            "Epoch 27/60\n",
            "\n",
            "Epoch 00027: LearningRateScheduler setting learning rate to 0.0016883743.\n",
            "60000/60000 [==============================] - 4s 61us/step - loss: 2.9229e-04 - acc: 1.0000 - val_loss: 0.0366 - val_acc: 0.9929\n",
            "Epoch 28/60\n",
            "\n",
            "Epoch 00028: LearningRateScheduler setting learning rate to 0.0016404968.\n",
            "60000/60000 [==============================] - 4s 59us/step - loss: 2.5145e-04 - acc: 1.0000 - val_loss: 0.0361 - val_acc: 0.9925\n",
            "Epoch 29/60\n",
            "\n",
            "Epoch 00029: LearningRateScheduler setting learning rate to 0.0015952598.\n",
            "60000/60000 [==============================] - 3s 58us/step - loss: 3.0379e-04 - acc: 1.0000 - val_loss: 0.0382 - val_acc: 0.9923\n",
            "Epoch 30/60\n",
            "\n",
            "Epoch 00030: LearningRateScheduler setting learning rate to 0.0015524507.\n",
            "60000/60000 [==============================] - 4s 61us/step - loss: 2.4674e-04 - acc: 1.0000 - val_loss: 0.0392 - val_acc: 0.9921\n",
            "Epoch 31/60\n",
            "\n",
            "Epoch 00031: LearningRateScheduler setting learning rate to 0.001511879.\n",
            "60000/60000 [==============================] - 4s 61us/step - loss: 2.3949e-04 - acc: 1.0000 - val_loss: 0.0384 - val_acc: 0.9926\n",
            "Epoch 32/60\n",
            "\n",
            "Epoch 00032: LearningRateScheduler setting learning rate to 0.001473374.\n",
            "60000/60000 [==============================] - 4s 61us/step - loss: 2.2896e-04 - acc: 1.0000 - val_loss: 0.0375 - val_acc: 0.9920\n",
            "Epoch 33/60\n",
            "\n",
            "Epoch 00033: LearningRateScheduler setting learning rate to 0.0014367816.\n",
            "60000/60000 [==============================] - 4s 59us/step - loss: 2.3500e-04 - acc: 1.0000 - val_loss: 0.0403 - val_acc: 0.9924\n",
            "Epoch 34/60\n",
            "\n",
            "Epoch 00034: LearningRateScheduler setting learning rate to 0.0014019627.\n",
            "60000/60000 [==============================] - 4s 59us/step - loss: 3.0505e-04 - acc: 0.9999 - val_loss: 0.0390 - val_acc: 0.9925\n",
            "Epoch 35/60\n",
            "\n",
            "Epoch 00035: LearningRateScheduler setting learning rate to 0.0013687916.\n",
            "60000/60000 [==============================] - 4s 59us/step - loss: 5.4466e-04 - acc: 0.9999 - val_loss: 0.0437 - val_acc: 0.9920\n",
            "Epoch 36/60\n",
            "\n",
            "Epoch 00036: LearningRateScheduler setting learning rate to 0.0013371538.\n",
            "60000/60000 [==============================] - 4s 59us/step - loss: 0.0051 - acc: 0.9984 - val_loss: 0.0442 - val_acc: 0.9920\n",
            "Epoch 37/60\n",
            "\n",
            "Epoch 00037: LearningRateScheduler setting learning rate to 0.0013069455.\n",
            "60000/60000 [==============================] - 4s 59us/step - loss: 0.0063 - acc: 0.9976 - val_loss: 0.0488 - val_acc: 0.9903\n",
            "Epoch 38/60\n",
            "\n",
            "Epoch 00038: LearningRateScheduler setting learning rate to 0.0012780719.\n",
            "60000/60000 [==============================] - 4s 59us/step - loss: 0.0034 - acc: 0.9989 - val_loss: 0.0418 - val_acc: 0.9915\n",
            "Epoch 39/60\n",
            "\n",
            "Epoch 00039: LearningRateScheduler setting learning rate to 0.0012504466.\n",
            "60000/60000 [==============================] - 4s 59us/step - loss: 0.0022 - acc: 0.9993 - val_loss: 0.0396 - val_acc: 0.9922\n",
            "Epoch 40/60\n",
            "\n",
            "Epoch 00040: LearningRateScheduler setting learning rate to 0.0012239902.\n",
            "60000/60000 [==============================] - 4s 59us/step - loss: 7.3106e-04 - acc: 0.9998 - val_loss: 0.0379 - val_acc: 0.9929\n",
            "Epoch 41/60\n",
            "\n",
            "Epoch 00041: LearningRateScheduler setting learning rate to 0.0011986301.\n",
            "60000/60000 [==============================] - 4s 59us/step - loss: 3.6152e-04 - acc: 1.0000 - val_loss: 0.0359 - val_acc: 0.9939\n",
            "Epoch 42/60\n",
            "\n",
            "Epoch 00042: LearningRateScheduler setting learning rate to 0.0011742996.\n",
            "60000/60000 [==============================] - 4s 59us/step - loss: 2.1345e-04 - acc: 1.0000 - val_loss: 0.0366 - val_acc: 0.9935\n",
            "Epoch 43/60\n",
            "\n",
            "Epoch 00043: LearningRateScheduler setting learning rate to 0.0011509372.\n",
            "60000/60000 [==============================] - 4s 59us/step - loss: 1.7946e-04 - acc: 1.0000 - val_loss: 0.0385 - val_acc: 0.9935\n",
            "Epoch 44/60\n",
            "\n",
            "Epoch 00044: LearningRateScheduler setting learning rate to 0.0011284862.\n",
            "60000/60000 [==============================] - 4s 59us/step - loss: 3.0137e-04 - acc: 0.9999 - val_loss: 0.0360 - val_acc: 0.9942\n",
            "Epoch 45/60\n",
            "\n",
            "Epoch 00045: LearningRateScheduler setting learning rate to 0.0011068944.\n",
            "60000/60000 [==============================] - 4s 59us/step - loss: 2.5640e-04 - acc: 1.0000 - val_loss: 0.0377 - val_acc: 0.9932\n",
            "Epoch 46/60\n",
            "\n",
            "Epoch 00046: LearningRateScheduler setting learning rate to 0.0010861133.\n",
            "60000/60000 [==============================] - 4s 59us/step - loss: 1.5013e-04 - acc: 1.0000 - val_loss: 0.0371 - val_acc: 0.9937\n",
            "Epoch 47/60\n",
            "\n",
            "Epoch 00047: LearningRateScheduler setting learning rate to 0.0010660981.\n",
            "60000/60000 [==============================] - 4s 59us/step - loss: 1.3172e-04 - acc: 1.0000 - val_loss: 0.0364 - val_acc: 0.9935\n",
            "Epoch 48/60\n",
            "\n",
            "Epoch 00048: LearningRateScheduler setting learning rate to 0.0010468072.\n",
            "60000/60000 [==============================] - 4s 61us/step - loss: 1.2376e-04 - acc: 1.0000 - val_loss: 0.0357 - val_acc: 0.9933\n",
            "Epoch 49/60\n",
            "\n",
            "Epoch 00049: LearningRateScheduler setting learning rate to 0.0010282021.\n",
            "60000/60000 [==============================] - 4s 61us/step - loss: 1.4571e-04 - acc: 1.0000 - val_loss: 0.0362 - val_acc: 0.9933\n",
            "Epoch 50/60\n",
            "\n",
            "Epoch 00050: LearningRateScheduler setting learning rate to 0.0010102468.\n",
            "60000/60000 [==============================] - 4s 60us/step - loss: 1.6326e-04 - acc: 1.0000 - val_loss: 0.0373 - val_acc: 0.9936\n",
            "Epoch 51/60\n",
            "\n",
            "Epoch 00051: LearningRateScheduler setting learning rate to 0.0009929078.\n",
            "60000/60000 [==============================] - 4s 58us/step - loss: 1.4586e-04 - acc: 1.0000 - val_loss: 0.0366 - val_acc: 0.9933\n",
            "Epoch 52/60\n",
            "\n",
            "Epoch 00052: LearningRateScheduler setting learning rate to 0.000976154.\n",
            "60000/60000 [==============================] - 4s 59us/step - loss: 9.2082e-05 - acc: 1.0000 - val_loss: 0.0359 - val_acc: 0.9941\n",
            "Epoch 53/60\n",
            "\n",
            "Epoch 00053: LearningRateScheduler setting learning rate to 0.0009599561.\n",
            "60000/60000 [==============================] - 4s 59us/step - loss: 2.0292e-04 - acc: 1.0000 - val_loss: 0.0352 - val_acc: 0.9939\n",
            "Epoch 54/60\n",
            "\n",
            "Epoch 00054: LearningRateScheduler setting learning rate to 0.0009442871.\n",
            "60000/60000 [==============================] - 4s 59us/step - loss: 6.6611e-04 - acc: 0.9998 - val_loss: 0.0476 - val_acc: 0.9916\n",
            "Epoch 55/60\n",
            "\n",
            "Epoch 00055: LearningRateScheduler setting learning rate to 0.0009291213.\n",
            "60000/60000 [==============================] - 4s 58us/step - loss: 0.0026 - acc: 0.9992 - val_loss: 0.0536 - val_acc: 0.9904\n",
            "Epoch 56/60\n",
            "\n",
            "Epoch 00056: LearningRateScheduler setting learning rate to 0.000914435.\n",
            "60000/60000 [==============================] - 4s 59us/step - loss: 0.0021 - acc: 0.9992 - val_loss: 0.0464 - val_acc: 0.9918\n",
            "Epoch 57/60\n",
            "\n",
            "Epoch 00057: LearningRateScheduler setting learning rate to 0.0009002058.\n",
            "60000/60000 [==============================] - 4s 59us/step - loss: 0.0018 - acc: 0.9994 - val_loss: 0.0423 - val_acc: 0.9920\n",
            "Epoch 58/60\n",
            "\n",
            "Epoch 00058: LearningRateScheduler setting learning rate to 0.0008864126.\n",
            "60000/60000 [==============================] - 4s 59us/step - loss: 8.8813e-04 - acc: 0.9998 - val_loss: 0.0387 - val_acc: 0.9935\n",
            "Epoch 59/60\n",
            "\n",
            "Epoch 00059: LearningRateScheduler setting learning rate to 0.0008730357.\n",
            "60000/60000 [==============================] - 4s 59us/step - loss: 4.7000e-04 - acc: 0.9999 - val_loss: 0.0385 - val_acc: 0.9933\n",
            "Epoch 60/60\n",
            "\n",
            "Epoch 00060: LearningRateScheduler setting learning rate to 0.0008600565.\n",
            "60000/60000 [==============================] - 4s 59us/step - loss: 7.7916e-04 - acc: 0.9997 - val_loss: 0.0384 - val_acc: 0.9939\n"
          ],
          "name": "stdout"
        },
        {
          "output_type": "execute_result",
          "data": {
            "text/plain": [
              "<keras.callbacks.History at 0x7f5fcaee16a0>"
            ]
          },
          "metadata": {
            "tags": []
          },
          "execution_count": 66
        }
      ]
    },
    {
      "cell_type": "code",
      "metadata": {
        "id": "OCWoJkwE9suh",
        "colab_type": "code",
        "colab": {}
      },
      "source": [
        "y_pred = model.predict(X_test) ## use model to do prediction"
      ],
      "execution_count": 0,
      "outputs": []
    },
    {
      "cell_type": "code",
      "metadata": {
        "id": "Ym7iCFBm9uBs",
        "colab_type": "code",
        "outputId": "cb9686f6-2bb1-4dbb-8b09-ba00d0459e35",
        "colab": {
          "base_uri": "https://localhost:8080/",
          "height": 493
        }
      },
      "source": [
        "print(y_pred[:9])\n",
        "print(y_test[:9])"
      ],
      "execution_count": 0,
      "outputs": [
        {
          "output_type": "stream",
          "text": [
            "[[8.17570350e-13 1.32161881e-09 2.29383298e-13 7.08748268e-11\n",
            "  2.66298961e-09 1.37995925e-11 2.71812971e-20 1.00000000e+00\n",
            "  7.07026342e-16 6.21749657e-12]\n",
            " [8.55169546e-15 8.98888386e-13 1.00000000e+00 2.37116153e-16\n",
            "  2.51540727e-17 1.91565579e-20 1.40749652e-14 9.71386483e-18\n",
            "  1.24257711e-12 1.82561798e-20]\n",
            " [2.16954403e-15 1.00000000e+00 1.00693711e-13 1.06815891e-16\n",
            "  3.88705479e-13 3.18342184e-12 1.35817902e-11 5.98477179e-09\n",
            "  1.08209503e-12 5.01166051e-14]\n",
            " [1.00000000e+00 1.26794439e-21 1.91154842e-10 1.42594473e-13\n",
            "  1.65938166e-11 4.92726845e-13 2.19949170e-09 2.41928960e-12\n",
            "  4.74241826e-11 2.60850217e-12]\n",
            " [1.45384362e-14 3.25960248e-17 9.50976680e-15 1.24760122e-21\n",
            "  1.00000000e+00 1.22322345e-13 2.51519601e-17 1.01827097e-12\n",
            "  1.87488848e-12 3.84956884e-08]\n",
            " [1.70635978e-16 1.00000000e+00 3.78438532e-14 1.56063091e-17\n",
            "  6.56618043e-13 5.98658840e-12 7.08077737e-12 8.84748363e-09\n",
            "  2.52955859e-12 1.54140600e-12]\n",
            " [8.41696245e-25 1.70489012e-10 5.77676131e-14 2.27477900e-20\n",
            "  9.99993682e-01 3.46450056e-11 8.29060536e-19 4.50033890e-13\n",
            "  1.33043023e-12 6.32949059e-06]\n",
            " [1.88617601e-16 3.90257894e-14 7.08514736e-14 2.16251780e-14\n",
            "  1.40966092e-08 4.10820720e-15 9.53193824e-19 2.64016630e-12\n",
            "  2.52792839e-12 1.00000000e+00]\n",
            " [3.50380347e-09 2.80827040e-15 3.86606060e-16 7.23781235e-12\n",
            "  1.01322670e-16 5.22249579e-01 4.77713346e-01 3.14698574e-15\n",
            "  3.71205824e-05 2.84547674e-09]]\n",
            "[7 2 1 0 4 1 4 9 5]\n"
          ],
          "name": "stdout"
        }
      ]
    },
    {
      "cell_type": "code",
      "metadata": {
        "id": "CT--y98_dr2T",
        "colab_type": "code",
        "colab": {}
      },
      "source": [
        "layer_dict = dict([(layer.name, layer) for layer in model.layers])"
      ],
      "execution_count": 0,
      "outputs": []
    },
    {
      "cell_type": "code",
      "metadata": {
        "id": "2GY4Upv4dsUR",
        "colab_type": "code",
        "outputId": "10e5c860-370b-4791-f2aa-2705069192f9",
        "colab": {
          "base_uri": "https://localhost:8080/",
          "height": 316
        }
      },
      "source": [
        "import numpy as np\n",
        "from matplotlib import pyplot as plt\n",
        "from keras import backend as K\n",
        "%matplotlib inline\n",
        "# util function to convert a tensor into a valid image\n",
        "def deprocess_image(x):\n",
        "    # normalize tensor: center on 0., ensure std is 0.1\n",
        "    x -= x.mean()\n",
        "    x /= (x.std() + 1e-5)\n",
        "    x *= 0.1\n",
        "\n",
        "    # clip to [0, 1]\n",
        "    x += 0.5\n",
        "    x = np.clip(x, 0, 1)\n",
        "\n",
        "    # convert to RGB array\n",
        "    x *= 255\n",
        "    #x = x.transpose((1, 2, 0))\n",
        "    x = np.clip(x, 0, 255).astype('uint8')\n",
        "    return x\n",
        "\n",
        "def vis_img_in_filter(img = np.array(X_train[2]).reshape((1, 28, 28, 1)).astype(np.float64), \n",
        "                      layer_name = 'conv2d_14'):\n",
        "    layer_output = layer_dict[layer_name].output\n",
        "    img_ascs = list()\n",
        "    for filter_index in range(layer_output.shape[3]):\n",
        "        # build a loss function that maximizes the activation\n",
        "        # of the nth filter of the layer considered\n",
        "        loss = K.mean(layer_output[:, :, :, filter_index])\n",
        "\n",
        "        # compute the gradient of the input picture wrt this loss\n",
        "        grads = K.gradients(loss, model.input)[0]\n",
        "\n",
        "        # normalization trick: we normalize the gradient\n",
        "        grads /= (K.sqrt(K.mean(K.square(grads))) + 1e-5)\n",
        "\n",
        "        # this function returns the loss and grads given the input picture\n",
        "        iterate = K.function([model.input], [loss, grads])\n",
        "\n",
        "        # step size for gradient ascent\n",
        "        step = 5.\n",
        "\n",
        "        img_asc = np.array(img)\n",
        "        # run gradient ascent for 20 steps\n",
        "        for i in range(20):\n",
        "            loss_value, grads_value = iterate([img_asc])\n",
        "            img_asc += grads_value * step\n",
        "\n",
        "        img_asc = img_asc[0]\n",
        "        img_ascs.append(deprocess_image(img_asc).reshape((28, 28)))\n",
        "        \n",
        "    if layer_output.shape[3] >= 35:\n",
        "        plot_x, plot_y = 6, 6\n",
        "    elif layer_output.shape[3] >= 23:\n",
        "        plot_x, plot_y = 4, 6\n",
        "    elif layer_output.shape[3] >= 11:\n",
        "        plot_x, plot_y = 2, 6\n",
        "    else:\n",
        "        plot_x, plot_y = 1, 2\n",
        "    fig, ax = plt.subplots(plot_x, plot_y, figsize = (12, 12))\n",
        "    ax[0, 0].imshow(img.reshape((28, 28)), cmap = 'gray')\n",
        "    ax[0, 0].set_title('Input image')\n",
        "    fig.suptitle('Input image and %s filters' % (layer_name,))\n",
        "    fig.tight_layout(pad = 0.3, rect = [0, 0, 0.9, 0.9])\n",
        "    for (x, y) in [(i, j) for i in range(plot_x) for j in range(plot_y)]:\n",
        "        if x == 0 and y == 0:\n",
        "            continue\n",
        "        ax[x, y].imshow(img_ascs[x * plot_y + y - 1], cmap = 'gray')\n",
        "        ax[x, y].set_title('filter %d' % (x * plot_y + y - 1))\n",
        "\n",
        "vis_img_in_filter()"
      ],
      "execution_count": 0,
      "outputs": [
        {
          "output_type": "error",
          "ename": "KeyError",
          "evalue": "ignored",
          "traceback": [
            "\u001b[0;31m---------------------------------------------------------------------------\u001b[0m",
            "\u001b[0;31mKeyError\u001b[0m                                  Traceback (most recent call last)",
            "\u001b[0;32m<ipython-input-87-19229f66b51a>\u001b[0m in \u001b[0;36m<module>\u001b[0;34m()\u001b[0m\n\u001b[1;32m     69\u001b[0m         \u001b[0max\u001b[0m\u001b[0;34m[\u001b[0m\u001b[0mx\u001b[0m\u001b[0;34m,\u001b[0m \u001b[0my\u001b[0m\u001b[0;34m]\u001b[0m\u001b[0;34m.\u001b[0m\u001b[0mset_title\u001b[0m\u001b[0;34m(\u001b[0m\u001b[0;34m'filter %d'\u001b[0m \u001b[0;34m%\u001b[0m \u001b[0;34m(\u001b[0m\u001b[0mx\u001b[0m \u001b[0;34m*\u001b[0m \u001b[0mplot_y\u001b[0m \u001b[0;34m+\u001b[0m \u001b[0my\u001b[0m \u001b[0;34m-\u001b[0m \u001b[0;36m1\u001b[0m\u001b[0;34m)\u001b[0m\u001b[0;34m)\u001b[0m\u001b[0;34m\u001b[0m\u001b[0;34m\u001b[0m\u001b[0m\n\u001b[1;32m     70\u001b[0m \u001b[0;34m\u001b[0m\u001b[0m\n\u001b[0;32m---> 71\u001b[0;31m \u001b[0mvis_img_in_filter\u001b[0m\u001b[0;34m(\u001b[0m\u001b[0;34m)\u001b[0m\u001b[0;34m\u001b[0m\u001b[0;34m\u001b[0m\u001b[0m\n\u001b[0m",
            "\u001b[0;32m<ipython-input-87-19229f66b51a>\u001b[0m in \u001b[0;36mvis_img_in_filter\u001b[0;34m(img, layer_name)\u001b[0m\n\u001b[1;32m     22\u001b[0m def vis_img_in_filter(img = np.array(X_train[2]).reshape((1, 28, 28, 1)).astype(np.float64), \n\u001b[1;32m     23\u001b[0m                       layer_name = 'conv2d_14'):\n\u001b[0;32m---> 24\u001b[0;31m     \u001b[0mlayer_output\u001b[0m \u001b[0;34m=\u001b[0m \u001b[0mlayer_dict\u001b[0m\u001b[0;34m[\u001b[0m\u001b[0mlayer_name\u001b[0m\u001b[0;34m]\u001b[0m\u001b[0;34m.\u001b[0m\u001b[0moutput\u001b[0m\u001b[0;34m\u001b[0m\u001b[0;34m\u001b[0m\u001b[0m\n\u001b[0m\u001b[1;32m     25\u001b[0m     \u001b[0mimg_ascs\u001b[0m \u001b[0;34m=\u001b[0m \u001b[0mlist\u001b[0m\u001b[0;34m(\u001b[0m\u001b[0;34m)\u001b[0m\u001b[0;34m\u001b[0m\u001b[0;34m\u001b[0m\u001b[0m\n\u001b[1;32m     26\u001b[0m     \u001b[0;32mfor\u001b[0m \u001b[0mfilter_index\u001b[0m \u001b[0;32min\u001b[0m \u001b[0mrange\u001b[0m\u001b[0;34m(\u001b[0m\u001b[0mlayer_output\u001b[0m\u001b[0;34m.\u001b[0m\u001b[0mshape\u001b[0m\u001b[0;34m[\u001b[0m\u001b[0;36m3\u001b[0m\u001b[0;34m]\u001b[0m\u001b[0;34m)\u001b[0m\u001b[0;34m:\u001b[0m\u001b[0;34m\u001b[0m\u001b[0;34m\u001b[0m\u001b[0m\n",
            "\u001b[0;31mKeyError\u001b[0m: 'conv2d_14'"
          ]
        }
      ]
    },
    {
      "cell_type": "code",
      "metadata": {
        "id": "9tvptcn8dxvp",
        "colab_type": "code",
        "colab": {}
      },
      "source": [
        ""
      ],
      "execution_count": 0,
      "outputs": []
    }
  ]
}