{
  "nbformat": 4,
  "nbformat_minor": 0,
  "metadata": {
    "colab": {
      "name": "EVA Assignment 4 - Code Iteration-2 .ipynb",
      "version": "0.3.2",
      "provenance": [],
      "collapsed_sections": []
    },
    "kernelspec": {
      "name": "python3",
      "display_name": "Python 3"
    },
    "accelerator": "GPU"
  },
  "cells": [
    {
      "cell_type": "markdown",
      "metadata": {
        "id": "ns64HDt7YJR7",
        "colab_type": "text"
      },
      "source": [
        "Create a code iteration for predicting mnist data set. This is the second code iteration. Batch Normalization is introduced. Batchsize increased to 512. Architecture is also changed to get less than 15k parameters"
      ]
    },
    {
      "cell_type": "markdown",
      "metadata": {
        "id": "ve_53sptew3Q",
        "colab_type": "text"
      },
      "source": [
        "***Observations:  ***\n",
        "\n",
        "We got 14.632K parameters out of which 252 are non-trainable. \n",
        "Batch size is 512. \n",
        "We trained this network for 60 epochs.  Each epoc took around 3 sec to execute. \n",
        "Training loss is between 0.9932  and 0.00057546 . \n",
        "Validation loss is between 0.6484 and 0.0385.  \n",
        "Training accuracy reached max of 100%. \n",
        "Validation accuracy achieved is lying between 78.86% to 99.19%. "
      ]
    },
    {
      "cell_type": "markdown",
      "metadata": {
        "id": "aNyZv-Ec52ot",
        "colab_type": "text"
      },
      "source": [
        "# **Import Libraries and modules**"
      ]
    },
    {
      "cell_type": "markdown",
      "metadata": {
        "id": "qmBby3tJljz1",
        "colab_type": "text"
      },
      "source": [
        "**Download and install Keras**"
      ]
    },
    {
      "cell_type": "code",
      "metadata": {
        "id": "3m3w1Cw49Zkt",
        "colab_type": "code",
        "outputId": "d1f32bf5-a8ca-4da9-a3ec-e45f91af555a",
        "colab": {
          "base_uri": "https://localhost:8080/",
          "height": 34
        }
      },
      "source": [
        "# https://keras.io/\n",
        "!pip install -q keras\n",
        "import keras"
      ],
      "execution_count": 0,
      "outputs": [
        {
          "output_type": "stream",
          "text": [
            "Using TensorFlow backend.\n"
          ],
          "name": "stderr"
        }
      ]
    },
    {
      "cell_type": "markdown",
      "metadata": {
        "id": "GpIrsjc2ltkR",
        "colab_type": "text"
      },
      "source": [
        "**Import mnist dataset, layers, utilities and data augmentation tools**"
      ]
    },
    {
      "cell_type": "code",
      "metadata": {
        "id": "Eso6UHE080D4",
        "colab_type": "code",
        "colab": {}
      },
      "source": [
        "import numpy as np\n",
        "\n",
        "from keras.models import Sequential\n",
        "from keras.layers import Dense, Dropout, Activation, Flatten, Add, BatchNormalization\n",
        "from keras.layers import Convolution2D, MaxPooling2D\n",
        "from keras.utils import np_utils\n",
        "from keras.preprocessing.image import ImageDataGenerator\n",
        "from keras.callbacks import LearningRateScheduler\n",
        "from keras import optimizers\n",
        "\n",
        "from keras.datasets import mnist"
      ],
      "execution_count": 0,
      "outputs": []
    },
    {
      "cell_type": "markdown",
      "metadata": {
        "id": "zByEi95J86RD",
        "colab_type": "text"
      },
      "source": [
        "### Load pre-shuffled MNIST data into train and test sets"
      ]
    },
    {
      "cell_type": "code",
      "metadata": {
        "id": "7eRM0QWN83PV",
        "colab_type": "code",
        "colab": {}
      },
      "source": [
        "(X_train, y_train), (X_test, y_test) = mnist.load_data()"
      ],
      "execution_count": 0,
      "outputs": []
    },
    {
      "cell_type": "markdown",
      "metadata": {
        "id": "KqYmf1QznnSF",
        "colab_type": "text"
      },
      "source": [
        "**Print Dimensions of the train dataset. And print first image from train dataset**"
      ]
    },
    {
      "cell_type": "code",
      "metadata": {
        "id": "4a4Be72j8-ZC",
        "colab_type": "code",
        "outputId": "4e0a1bcc-b0df-49f2-c052-72449bd924c6",
        "colab": {
          "base_uri": "https://localhost:8080/",
          "height": 303
        }
      },
      "source": [
        "print (X_train.shape)\n",
        "from matplotlib import pyplot as plt\n",
        "%matplotlib inline\n",
        "plt.imshow(X_train[0])"
      ],
      "execution_count": 0,
      "outputs": [
        {
          "output_type": "stream",
          "text": [
            "(60000, 28, 28)\n"
          ],
          "name": "stdout"
        },
        {
          "output_type": "execute_result",
          "data": {
            "text/plain": [
              "<matplotlib.image.AxesImage at 0x7f706d7e5358>"
            ]
          },
          "metadata": {
            "tags": []
          },
          "execution_count": 4
        },
        {
          "output_type": "display_data",
          "data": {
            "image/png": "[encoded data removed]",
            "text/plain": [
              "<Figure size 432x288 with 1 Axes>"
            ]
          },
          "metadata": {
            "tags": []
          }
        }
      ]
    },
    {
      "cell_type": "markdown",
      "metadata": {
        "id": "wm3bsvH3npO0",
        "colab_type": "text"
      },
      "source": [
        "**Reshape data into (28,28,1) array**"
      ]
    },
    {
      "cell_type": "code",
      "metadata": {
        "id": "dkmprriw9AnZ",
        "colab_type": "code",
        "colab": {}
      },
      "source": [
        "X_train = X_train.reshape(X_train.shape[0], 28, 28,1)\n",
        "X_test = X_test.reshape(X_test.shape[0], 28, 28,1)"
      ],
      "execution_count": 0,
      "outputs": []
    },
    {
      "cell_type": "markdown",
      "metadata": {
        "id": "1p1x5dcBn67N",
        "colab_type": "text"
      },
      "source": [
        "**Normalize Data**"
      ]
    },
    {
      "cell_type": "code",
      "metadata": {
        "id": "X2m4YS4E9CRh",
        "colab_type": "code",
        "colab": {}
      },
      "source": [
        "X_train = X_train.astype('float32')\n",
        "X_test = X_test.astype('float32')\n",
        "X_train /= 255\n",
        "X_test /= 255"
      ],
      "execution_count": 0,
      "outputs": []
    },
    {
      "cell_type": "markdown",
      "metadata": {
        "id": "DadS0gYLoFfo",
        "colab_type": "text"
      },
      "source": [
        "**Print Sample Data**"
      ]
    },
    {
      "cell_type": "code",
      "metadata": {
        "id": "0Mn0vAYD9DvB",
        "colab_type": "code",
        "outputId": "89ce0026-853b-4218-87c6-8907df04f3e5",
        "colab": {
          "base_uri": "https://localhost:8080/",
          "height": 34
        }
      },
      "source": [
        "y_train[:10]"
      ],
      "execution_count": 0,
      "outputs": [
        {
          "output_type": "execute_result",
          "data": {
            "text/plain": [
              "array([5, 0, 4, 1, 9, 2, 1, 3, 1, 4], dtype=uint8)"
            ]
          },
          "metadata": {
            "tags": []
          },
          "execution_count": 7
        }
      ]
    },
    {
      "cell_type": "code",
      "metadata": {
        "id": "ZG8JiXR39FHC",
        "colab_type": "code",
        "colab": {}
      },
      "source": [
        "# Convert 1-dimensional class arrays to 10-dimensional class matrices\n",
        "Y_train = np_utils.to_categorical(y_train, 10)\n",
        "Y_test = np_utils.to_categorical(y_test, 10)"
      ],
      "execution_count": 0,
      "outputs": []
    },
    {
      "cell_type": "code",
      "metadata": {
        "id": "fYlFRvKS9HMB",
        "colab_type": "code",
        "outputId": "be25b496-14af-4fd5-ca4b-bcabb4eec8dd",
        "colab": {
          "base_uri": "https://localhost:8080/",
          "height": 187
        }
      },
      "source": [
        "Y_train[:10]\n"
      ],
      "execution_count": 0,
      "outputs": [
        {
          "output_type": "execute_result",
          "data": {
            "text/plain": [
              "array([[0., 0., 0., 0., 0., 1., 0., 0., 0., 0.],\n",
              "       [1., 0., 0., 0., 0., 0., 0., 0., 0., 0.],\n",
              "       [0., 0., 0., 0., 1., 0., 0., 0., 0., 0.],\n",
              "       [0., 1., 0., 0., 0., 0., 0., 0., 0., 0.],\n",
              "       [0., 0., 0., 0., 0., 0., 0., 0., 0., 1.],\n",
              "       [0., 0., 1., 0., 0., 0., 0., 0., 0., 0.],\n",
              "       [0., 1., 0., 0., 0., 0., 0., 0., 0., 0.],\n",
              "       [0., 0., 0., 1., 0., 0., 0., 0., 0., 0.],\n",
              "       [0., 1., 0., 0., 0., 0., 0., 0., 0., 0.],\n",
              "       [0., 0., 0., 0., 1., 0., 0., 0., 0., 0.]], dtype=float32)"
            ]
          },
          "metadata": {
            "tags": []
          },
          "execution_count": 9
        }
      ]
    },
    {
      "cell_type": "markdown",
      "metadata": {
        "id": "fDspxhpjoMIH",
        "colab_type": "text"
      },
      "source": [
        "**Data Preprocessing - Define Data Augmentation Stratagy using ImageDataGenerator Class**"
      ]
    },
    {
      "cell_type": "markdown",
      "metadata": {
        "id": "3Bat6ffQsNv_",
        "colab_type": "text"
      },
      "source": [
        "**Fits the data generator to some sample data.**"
      ]
    },
    {
      "cell_type": "markdown",
      "metadata": {
        "id": "YB9WyTLtsSwg",
        "colab_type": "text"
      },
      "source": [
        "**Define a new architecture by using a sequential model.**"
      ]
    },
    {
      "cell_type": "code",
      "metadata": {
        "id": "q0aC9g41Wwr4",
        "colab_type": "code",
        "outputId": "8f122c39-36a8-40b0-afc3-72fdc3f3e2b1",
        "colab": {
          "base_uri": "https://localhost:8080/",
          "height": 326
        }
      },
      "source": [
        "from keras.layers import Activation\n",
        "model = Sequential()\n",
        "\n",
        "model.add(Convolution2D(10, 3, 3, activation='relu', input_shape=(28,28,1))) # 26 3X3\n",
        "model.add(BatchNormalization())\n",
        "\n",
        "model.add(Convolution2D(16, 3, 3, activation='relu')) # 24 5X5\n",
        "model.add(BatchNormalization())\n",
        "model.add(Convolution2D(16, 3, 3, activation='relu')) # 22 7X7\n",
        "model.add(BatchNormalization())\n",
        "model.add(Convolution2D(10, 3, 3, activation='relu')) # 20 9X9\n",
        "model.add(BatchNormalization())\n",
        "model.add(Convolution2D(16, 3, 3, activation='relu')) # 18 11X11\n",
        "model.add(BatchNormalization())\n",
        "\n",
        "\n",
        "\n",
        "model.add(MaxPooling2D(pool_size=(2, 2))) # 9 22X22\n",
        "model.add(Convolution2D(10, 1, 1, activation='relu')) #  7 24X24\n",
        "model.add(BatchNormalization())\n",
        "\n",
        "model.add(Convolution2D(16, 3, 3, activation='relu')) # 5 26X26\n",
        "model.add(BatchNormalization())\n",
        "model.add(Convolution2D(16, 3, 3, activation='relu')) #  3 28X28\n",
        "model.add(BatchNormalization())\n",
        "\n",
        "\n",
        "\n",
        "model.add(Convolution2D(16, 3, 3, activation='relu')) \n",
        "model.add(BatchNormalization())\n",
        "model.add(Convolution2D(10, 1, activation='relu')) \n",
        "\n",
        "model.add(Convolution2D(10, 3))\n",
        "model.add(Flatten())\n",
        "model.add(Activation('softmax'))"
      ],
      "execution_count": 0,
      "outputs": [
        {
          "output_type": "stream",
          "text": [
            "WARNING:tensorflow:From /usr/local/lib/python3.6/dist-packages/tensorflow/python/framework/op_def_library.py:263: colocate_with (from tensorflow.python.framework.ops) is deprecated and will be removed in a future version.\n",
            "Instructions for updating:\n",
            "Colocations handled automatically by placer.\n"
          ],
          "name": "stdout"
        },
        {
          "output_type": "stream",
          "text": [
            "/usr/local/lib/python3.6/dist-packages/ipykernel_launcher.py:4: UserWarning: Update your `Conv2D` call to the Keras 2 API: `Conv2D(10, (3, 3), activation=\"relu\", input_shape=(28, 28, 1...)`\n",
            "  after removing the cwd from sys.path.\n",
            "/usr/local/lib/python3.6/dist-packages/ipykernel_launcher.py:7: UserWarning: Update your `Conv2D` call to the Keras 2 API: `Conv2D(16, (3, 3), activation=\"relu\")`\n",
            "  import sys\n",
            "/usr/local/lib/python3.6/dist-packages/ipykernel_launcher.py:9: UserWarning: Update your `Conv2D` call to the Keras 2 API: `Conv2D(16, (3, 3), activation=\"relu\")`\n",
            "  if __name__ == '__main__':\n",
            "/usr/local/lib/python3.6/dist-packages/ipykernel_launcher.py:11: UserWarning: Update your `Conv2D` call to the Keras 2 API: `Conv2D(10, (3, 3), activation=\"relu\")`\n",
            "  # This is added back by InteractiveShellApp.init_path()\n",
            "/usr/local/lib/python3.6/dist-packages/ipykernel_launcher.py:13: UserWarning: Update your `Conv2D` call to the Keras 2 API: `Conv2D(16, (3, 3), activation=\"relu\")`\n",
            "  del sys.path[0]\n",
            "/usr/local/lib/python3.6/dist-packages/ipykernel_launcher.py:19: UserWarning: Update your `Conv2D` call to the Keras 2 API: `Conv2D(10, (1, 1), activation=\"relu\")`\n",
            "/usr/local/lib/python3.6/dist-packages/ipykernel_launcher.py:22: UserWarning: Update your `Conv2D` call to the Keras 2 API: `Conv2D(16, (3, 3), activation=\"relu\")`\n",
            "/usr/local/lib/python3.6/dist-packages/ipykernel_launcher.py:24: UserWarning: Update your `Conv2D` call to the Keras 2 API: `Conv2D(16, (3, 3), activation=\"relu\")`\n",
            "/usr/local/lib/python3.6/dist-packages/ipykernel_launcher.py:29: UserWarning: Update your `Conv2D` call to the Keras 2 API: `Conv2D(16, (3, 3), activation=\"relu\")`\n"
          ],
          "name": "stderr"
        }
      ]
    },
    {
      "cell_type": "code",
      "metadata": {
        "id": "TzdAYg1k9K7Z",
        "colab_type": "code",
        "outputId": "f152cbea-69ed-4b14-b953-0a62c8adc775",
        "colab": {
          "base_uri": "https://localhost:8080/",
          "height": 918
        }
      },
      "source": [
        "model.summary() ## create summary to see number of parameters are less than 20000"
      ],
      "execution_count": 0,
      "outputs": [
        {
          "output_type": "stream",
          "text": [
            "_________________________________________________________________\n",
            "Layer (type)                 Output Shape              Param #   \n",
            "=================================================================\n",
            "conv2d_1 (Conv2D)            (None, 26, 26, 10)        100       \n",
            "_________________________________________________________________\n",
            "batch_normalization_1 (Batch (None, 26, 26, 10)        40        \n",
            "_________________________________________________________________\n",
            "conv2d_2 (Conv2D)            (None, 24, 24, 16)        1456      \n",
            "_________________________________________________________________\n",
            "batch_normalization_2 (Batch (None, 24, 24, 16)        64        \n",
            "_________________________________________________________________\n",
            "conv2d_3 (Conv2D)            (None, 22, 22, 16)        2320      \n",
            "_________________________________________________________________\n",
            "batch_normalization_3 (Batch (None, 22, 22, 16)        64        \n",
            "_________________________________________________________________\n",
            "conv2d_4 (Conv2D)            (None, 20, 20, 10)        1450      \n",
            "_________________________________________________________________\n",
            "batch_normalization_4 (Batch (None, 20, 20, 10)        40        \n",
            "_________________________________________________________________\n",
            "conv2d_5 (Conv2D)            (None, 18, 18, 16)        1456      \n",
            "_________________________________________________________________\n",
            "batch_normalization_5 (Batch (None, 18, 18, 16)        64        \n",
            "_________________________________________________________________\n",
            "max_pooling2d_1 (MaxPooling2 (None, 9, 9, 16)          0         \n",
            "_________________________________________________________________\n",
            "conv2d_6 (Conv2D)            (None, 9, 9, 10)          170       \n",
            "_________________________________________________________________\n",
            "batch_normalization_6 (Batch (None, 9, 9, 10)          40        \n",
            "_________________________________________________________________\n",
            "conv2d_7 (Conv2D)            (None, 7, 7, 16)          1456      \n",
            "_________________________________________________________________\n",
            "batch_normalization_7 (Batch (None, 7, 7, 16)          64        \n",
            "_________________________________________________________________\n",
            "conv2d_8 (Conv2D)            (None, 5, 5, 16)          2320      \n",
            "_________________________________________________________________\n",
            "batch_normalization_8 (Batch (None, 5, 5, 16)          64        \n",
            "_________________________________________________________________\n",
            "conv2d_9 (Conv2D)            (None, 3, 3, 16)          2320      \n",
            "_________________________________________________________________\n",
            "batch_normalization_9 (Batch (None, 3, 3, 16)          64        \n",
            "_________________________________________________________________\n",
            "conv2d_10 (Conv2D)           (None, 3, 3, 10)          170       \n",
            "_________________________________________________________________\n",
            "conv2d_11 (Conv2D)           (None, 1, 1, 10)          910       \n",
            "_________________________________________________________________\n",
            "flatten_1 (Flatten)          (None, 10)                0         \n",
            "_________________________________________________________________\n",
            "activation_1 (Activation)    (None, 10)                0         \n",
            "=================================================================\n",
            "Total params: 14,632\n",
            "Trainable params: 14,380\n",
            "Non-trainable params: 252\n",
            "_________________________________________________________________\n"
          ],
          "name": "stdout"
        }
      ]
    },
    {
      "cell_type": "markdown",
      "metadata": {
        "id": "ZejW74II0WQG",
        "colab_type": "text"
      },
      "source": [
        "**Train the model training and validation sets**"
      ]
    },
    {
      "cell_type": "code",
      "metadata": {
        "colab_type": "code",
        "id": "djVYIdfop4d-",
        "colab": {}
      },
      "source": [
        "model.compile(loss='categorical_crossentropy', optimizer=\"adam\", metrics=['accuracy'])"
      ],
      "execution_count": 0,
      "outputs": []
    },
    {
      "cell_type": "code",
      "metadata": {
        "colab_type": "code",
        "outputId": "83a6d7e7-4eeb-4204-d7c0-d4dd340c6d33",
        "id": "nZ9C89dEp4eD",
        "colab": {
          "base_uri": "https://localhost:8080/",
          "height": 2162
        }
      },
      "source": [
        "model.fit(X_train, Y_train, batch_size=512, epochs=60, verbose=1, validation_data=(X_test, Y_test))"
      ],
      "execution_count": 0,
      "outputs": [
        {
          "output_type": "stream",
          "text": [
            "WARNING:tensorflow:From /usr/local/lib/python3.6/dist-packages/tensorflow/python/ops/math_ops.py:3066: to_int32 (from tensorflow.python.ops.math_ops) is deprecated and will be removed in a future version.\n",
            "Instructions for updating:\n",
            "Use tf.cast instead.\n",
            "Train on 60000 samples, validate on 10000 samples\n",
            "Epoch 1/60\n",
            "60000/60000 [==============================] - 7s 108us/step - loss: 0.9932 - acc: 0.6913 - val_loss: 0.6484 - val_acc: 0.7886\n",
            "Epoch 2/60\n",
            "60000/60000 [==============================] - 3s 54us/step - loss: 0.1612 - acc: 0.9540 - val_loss: 0.1150 - val_acc: 0.9649\n",
            "Epoch 3/60\n",
            "60000/60000 [==============================] - 3s 54us/step - loss: 0.0882 - acc: 0.9748 - val_loss: 0.0900 - val_acc: 0.9722\n",
            "Epoch 4/60\n",
            "60000/60000 [==============================] - 3s 54us/step - loss: 0.0636 - acc: 0.9816 - val_loss: 0.0671 - val_acc: 0.9791\n",
            "Epoch 5/60\n",
            "60000/60000 [==============================] - 3s 55us/step - loss: 0.0510 - acc: 0.9851 - val_loss: 0.0543 - val_acc: 0.9824\n",
            "Epoch 6/60\n",
            "60000/60000 [==============================] - 3s 54us/step - loss: 0.0407 - acc: 0.9881 - val_loss: 0.0630 - val_acc: 0.9809\n",
            "Epoch 7/60\n",
            "60000/60000 [==============================] - 3s 55us/step - loss: 0.0346 - acc: 0.9900 - val_loss: 0.0573 - val_acc: 0.9831\n",
            "Epoch 8/60\n",
            "60000/60000 [==============================] - 3s 54us/step - loss: 0.0305 - acc: 0.9904 - val_loss: 0.0502 - val_acc: 0.9842\n",
            "Epoch 9/60\n",
            "60000/60000 [==============================] - 3s 55us/step - loss: 0.0273 - acc: 0.9919 - val_loss: 0.0461 - val_acc: 0.9856\n",
            "Epoch 10/60\n",
            "60000/60000 [==============================] - 3s 55us/step - loss: 0.0229 - acc: 0.9929 - val_loss: 0.0463 - val_acc: 0.9860\n",
            "Epoch 11/60\n",
            "60000/60000 [==============================] - 3s 56us/step - loss: 0.0228 - acc: 0.9930 - val_loss: 0.0442 - val_acc: 0.9853\n",
            "Epoch 12/60\n",
            "60000/60000 [==============================] - 3s 56us/step - loss: 0.0191 - acc: 0.9940 - val_loss: 0.0461 - val_acc: 0.9866\n",
            "Epoch 13/60\n",
            "60000/60000 [==============================] - 3s 57us/step - loss: 0.0169 - acc: 0.9948 - val_loss: 0.0410 - val_acc: 0.9878\n",
            "Epoch 14/60\n",
            "60000/60000 [==============================] - 3s 56us/step - loss: 0.0153 - acc: 0.9953 - val_loss: 0.0452 - val_acc: 0.9865\n",
            "Epoch 15/60\n",
            "60000/60000 [==============================] - 3s 56us/step - loss: 0.0140 - acc: 0.9957 - val_loss: 0.0456 - val_acc: 0.9879\n",
            "Epoch 16/60\n",
            "60000/60000 [==============================] - 3s 56us/step - loss: 0.0131 - acc: 0.9962 - val_loss: 0.0477 - val_acc: 0.9867\n",
            "Epoch 17/60\n",
            "60000/60000 [==============================] - 3s 56us/step - loss: 0.0107 - acc: 0.9970 - val_loss: 0.0426 - val_acc: 0.9885\n",
            "Epoch 18/60\n",
            "60000/60000 [==============================] - 3s 56us/step - loss: 0.0115 - acc: 0.9962 - val_loss: 0.0686 - val_acc: 0.9791\n",
            "Epoch 19/60\n",
            "60000/60000 [==============================] - 3s 55us/step - loss: 0.0131 - acc: 0.9958 - val_loss: 0.0457 - val_acc: 0.9891\n",
            "Epoch 20/60\n",
            "60000/60000 [==============================] - 3s 55us/step - loss: 0.0089 - acc: 0.9974 - val_loss: 0.0517 - val_acc: 0.9850\n",
            "Epoch 21/60\n",
            "60000/60000 [==============================] - 3s 55us/step - loss: 0.0092 - acc: 0.9973 - val_loss: 0.0500 - val_acc: 0.9868\n",
            "Epoch 22/60\n",
            "60000/60000 [==============================] - 3s 55us/step - loss: 0.0129 - acc: 0.9958 - val_loss: 0.0503 - val_acc: 0.9859\n",
            "Epoch 23/60\n",
            "60000/60000 [==============================] - 3s 55us/step - loss: 0.0079 - acc: 0.9974 - val_loss: 0.0466 - val_acc: 0.9888\n",
            "Epoch 24/60\n",
            "60000/60000 [==============================] - 3s 55us/step - loss: 0.0073 - acc: 0.9977 - val_loss: 0.0468 - val_acc: 0.9874\n",
            "Epoch 25/60\n",
            "60000/60000 [==============================] - 3s 55us/step - loss: 0.0070 - acc: 0.9978 - val_loss: 0.0468 - val_acc: 0.9879\n",
            "Epoch 26/60\n",
            "60000/60000 [==============================] - 3s 55us/step - loss: 0.0061 - acc: 0.9983 - val_loss: 0.0433 - val_acc: 0.9889\n",
            "Epoch 27/60\n",
            "60000/60000 [==============================] - 3s 55us/step - loss: 0.0066 - acc: 0.9977 - val_loss: 0.0542 - val_acc: 0.9868\n",
            "Epoch 28/60\n",
            "60000/60000 [==============================] - 3s 55us/step - loss: 0.0083 - acc: 0.9972 - val_loss: 0.0477 - val_acc: 0.9880\n",
            "Epoch 29/60\n",
            "60000/60000 [==============================] - 3s 55us/step - loss: 0.0128 - acc: 0.9958 - val_loss: 0.0474 - val_acc: 0.9875\n",
            "Epoch 30/60\n",
            "60000/60000 [==============================] - 3s 55us/step - loss: 0.0062 - acc: 0.9981 - val_loss: 0.0872 - val_acc: 0.9779\n",
            "Epoch 31/60\n",
            "60000/60000 [==============================] - 3s 55us/step - loss: 0.0072 - acc: 0.9976 - val_loss: 0.0506 - val_acc: 0.9885\n",
            "Epoch 32/60\n",
            "60000/60000 [==============================] - 3s 55us/step - loss: 0.0059 - acc: 0.9980 - val_loss: 0.0443 - val_acc: 0.9893\n",
            "Epoch 33/60\n",
            "60000/60000 [==============================] - 3s 55us/step - loss: 0.0050 - acc: 0.9986 - val_loss: 0.0478 - val_acc: 0.9870\n",
            "Epoch 34/60\n",
            "60000/60000 [==============================] - 3s 54us/step - loss: 0.0052 - acc: 0.9986 - val_loss: 0.0528 - val_acc: 0.9884\n",
            "Epoch 35/60\n",
            "60000/60000 [==============================] - 3s 56us/step - loss: 0.0033 - acc: 0.9992 - val_loss: 0.0421 - val_acc: 0.9897\n",
            "Epoch 36/60\n",
            "60000/60000 [==============================] - 3s 56us/step - loss: 0.0041 - acc: 0.9988 - val_loss: 0.0572 - val_acc: 0.9859\n",
            "Epoch 37/60\n",
            "60000/60000 [==============================] - 3s 56us/step - loss: 0.0068 - acc: 0.9978 - val_loss: 0.0514 - val_acc: 0.9873\n",
            "Epoch 38/60\n",
            "60000/60000 [==============================] - 3s 55us/step - loss: 0.0054 - acc: 0.9983 - val_loss: 0.0453 - val_acc: 0.9903\n",
            "Epoch 39/60\n",
            "60000/60000 [==============================] - 3s 55us/step - loss: 0.0046 - acc: 0.9986 - val_loss: 0.0524 - val_acc: 0.9877\n",
            "Epoch 40/60\n",
            "60000/60000 [==============================] - 3s 55us/step - loss: 0.0034 - acc: 0.9990 - val_loss: 0.0546 - val_acc: 0.9876\n",
            "Epoch 41/60\n",
            "60000/60000 [==============================] - 3s 57us/step - loss: 0.0029 - acc: 0.9992 - val_loss: 0.0455 - val_acc: 0.9902\n",
            "Epoch 42/60\n",
            "60000/60000 [==============================] - 3s 56us/step - loss: 0.0020 - acc: 0.9996 - val_loss: 0.0417 - val_acc: 0.9906\n",
            "Epoch 43/60\n",
            "60000/60000 [==============================] - 3s 55us/step - loss: 9.8960e-04 - acc: 0.9999 - val_loss: 0.0404 - val_acc: 0.9911\n",
            "Epoch 44/60\n",
            "60000/60000 [==============================] - 3s 55us/step - loss: 9.8631e-04 - acc: 0.9999 - val_loss: 0.0433 - val_acc: 0.9900\n",
            "Epoch 45/60\n",
            "60000/60000 [==============================] - 3s 55us/step - loss: 0.0011 - acc: 0.9998 - val_loss: 0.0509 - val_acc: 0.9899\n",
            "Epoch 46/60\n",
            "60000/60000 [==============================] - 3s 55us/step - loss: 0.0011 - acc: 0.9999 - val_loss: 0.0441 - val_acc: 0.9897\n",
            "Epoch 47/60\n",
            "60000/60000 [==============================] - 3s 55us/step - loss: 0.0013 - acc: 0.9997 - val_loss: 0.0591 - val_acc: 0.9880\n",
            "Epoch 48/60\n",
            "60000/60000 [==============================] - 3s 55us/step - loss: 0.0134 - acc: 0.9959 - val_loss: 0.0786 - val_acc: 0.9827\n",
            "Epoch 49/60\n",
            "60000/60000 [==============================] - 3s 55us/step - loss: 0.0267 - acc: 0.9920 - val_loss: 0.0496 - val_acc: 0.9872\n",
            "Epoch 50/60\n",
            "60000/60000 [==============================] - 3s 55us/step - loss: 0.0074 - acc: 0.9975 - val_loss: 0.0437 - val_acc: 0.9892\n",
            "Epoch 51/60\n",
            "60000/60000 [==============================] - 3s 55us/step - loss: 0.0038 - acc: 0.9987 - val_loss: 0.0397 - val_acc: 0.9899\n",
            "Epoch 52/60\n",
            "60000/60000 [==============================] - 3s 55us/step - loss: 0.0019 - acc: 0.9996 - val_loss: 0.0393 - val_acc: 0.9899\n",
            "Epoch 53/60\n",
            "60000/60000 [==============================] - 3s 55us/step - loss: 0.0039 - acc: 0.9989 - val_loss: 0.0404 - val_acc: 0.9915\n",
            "Epoch 54/60\n",
            "60000/60000 [==============================] - 3s 55us/step - loss: 0.0018 - acc: 0.9996 - val_loss: 0.0424 - val_acc: 0.9901\n",
            "Epoch 55/60\n",
            "60000/60000 [==============================] - 3s 55us/step - loss: 0.0073 - acc: 0.9975 - val_loss: 0.0450 - val_acc: 0.9884\n",
            "Epoch 56/60\n",
            "60000/60000 [==============================] - 3s 55us/step - loss: 0.0036 - acc: 0.9990 - val_loss: 0.0491 - val_acc: 0.9881\n",
            "Epoch 57/60\n",
            "60000/60000 [==============================] - 3s 55us/step - loss: 0.0021 - acc: 0.9994 - val_loss: 0.0469 - val_acc: 0.9907\n",
            "Epoch 58/60\n",
            "60000/60000 [==============================] - 3s 55us/step - loss: 0.0014 - acc: 0.9997 - val_loss: 0.0460 - val_acc: 0.9895\n",
            "Epoch 59/60\n",
            "60000/60000 [==============================] - 3s 56us/step - loss: 8.2715e-04 - acc: 0.9999 - val_loss: 0.0385 - val_acc: 0.9919\n",
            "Epoch 60/60\n",
            "60000/60000 [==============================] - 3s 56us/step - loss: 5.7546e-04 - acc: 1.0000 - val_loss: 0.0403 - val_acc: 0.9918\n"
          ],
          "name": "stdout"
        },
        {
          "output_type": "execute_result",
          "data": {
            "text/plain": [
              "<keras.callbacks.History at 0x7f704c5b3438>"
            ]
          },
          "metadata": {
            "tags": []
          },
          "execution_count": 13
        }
      ]
    },
    {
      "cell_type": "code",
      "metadata": {
        "id": "OCWoJkwE9suh",
        "colab_type": "code",
        "colab": {}
      },
      "source": [
        "y_pred = model.predict(X_test) ## use model to do prediction"
      ],
      "execution_count": 0,
      "outputs": []
    },
    {
      "cell_type": "code",
      "metadata": {
        "id": "Ym7iCFBm9uBs",
        "colab_type": "code",
        "outputId": "cb9686f6-2bb1-4dbb-8b09-ba00d0459e35",
        "colab": {
          "base_uri": "https://localhost:8080/",
          "height": 493
        }
      },
      "source": [
        "print(y_pred[:9])\n",
        "print(y_test[:9])"
      ],
      "execution_count": 0,
      "outputs": [
        {
          "output_type": "stream",
          "text": [
            "[[8.17570350e-13 1.32161881e-09 2.29383298e-13 7.08748268e-11\n",
            "  2.66298961e-09 1.37995925e-11 2.71812971e-20 1.00000000e+00\n",
            "  7.07026342e-16 6.21749657e-12]\n",
            " [8.55169546e-15 8.98888386e-13 1.00000000e+00 2.37116153e-16\n",
            "  2.51540727e-17 1.91565579e-20 1.40749652e-14 9.71386483e-18\n",
            "  1.24257711e-12 1.82561798e-20]\n",
            " [2.16954403e-15 1.00000000e+00 1.00693711e-13 1.06815891e-16\n",
            "  3.88705479e-13 3.18342184e-12 1.35817902e-11 5.98477179e-09\n",
            "  1.08209503e-12 5.01166051e-14]\n",
            " [1.00000000e+00 1.26794439e-21 1.91154842e-10 1.42594473e-13\n",
            "  1.65938166e-11 4.92726845e-13 2.19949170e-09 2.41928960e-12\n",
            "  4.74241826e-11 2.60850217e-12]\n",
            " [1.45384362e-14 3.25960248e-17 9.50976680e-15 1.24760122e-21\n",
            "  1.00000000e+00 1.22322345e-13 2.51519601e-17 1.01827097e-12\n",
            "  1.87488848e-12 3.84956884e-08]\n",
            " [1.70635978e-16 1.00000000e+00 3.78438532e-14 1.56063091e-17\n",
            "  6.56618043e-13 5.98658840e-12 7.08077737e-12 8.84748363e-09\n",
            "  2.52955859e-12 1.54140600e-12]\n",
            " [8.41696245e-25 1.70489012e-10 5.77676131e-14 2.27477900e-20\n",
            "  9.99993682e-01 3.46450056e-11 8.29060536e-19 4.50033890e-13\n",
            "  1.33043023e-12 6.32949059e-06]\n",
            " [1.88617601e-16 3.90257894e-14 7.08514736e-14 2.16251780e-14\n",
            "  1.40966092e-08 4.10820720e-15 9.53193824e-19 2.64016630e-12\n",
            "  2.52792839e-12 1.00000000e+00]\n",
            " [3.50380347e-09 2.80827040e-15 3.86606060e-16 7.23781235e-12\n",
            "  1.01322670e-16 5.22249579e-01 4.77713346e-01 3.14698574e-15\n",
            "  3.71205824e-05 2.84547674e-09]]\n",
            "[7 2 1 0 4 1 4 9 5]\n"
          ],
          "name": "stdout"
        }
      ]
    },
    {
      "cell_type": "code",
      "metadata": {
        "id": "CT--y98_dr2T",
        "colab_type": "code",
        "colab": {}
      },
      "source": [
        "layer_dict = dict([(layer.name, layer) for layer in model.layers])"
      ],
      "execution_count": 0,
      "outputs": []
    },
    {
      "cell_type": "code",
      "metadata": {
        "id": "2GY4Upv4dsUR",
        "colab_type": "code",
        "outputId": "10e5c860-370b-4791-f2aa-2705069192f9",
        "colab": {
          "base_uri": "https://localhost:8080/",
          "height": 316
        }
      },
      "source": [
        "import numpy as np\n",
        "from matplotlib import pyplot as plt\n",
        "from keras import backend as K\n",
        "%matplotlib inline\n",
        "# util function to convert a tensor into a valid image\n",
        "def deprocess_image(x):\n",
        "    # normalize tensor: center on 0., ensure std is 0.1\n",
        "    x -= x.mean()\n",
        "    x /= (x.std() + 1e-5)\n",
        "    x *= 0.1\n",
        "\n",
        "    # clip to [0, 1]\n",
        "    x += 0.5\n",
        "    x = np.clip(x, 0, 1)\n",
        "\n",
        "    # convert to RGB array\n",
        "    x *= 255\n",
        "    #x = x.transpose((1, 2, 0))\n",
        "    x = np.clip(x, 0, 255).astype('uint8')\n",
        "    return x\n",
        "\n",
        "def vis_img_in_filter(img = np.array(X_train[2]).reshape((1, 28, 28, 1)).astype(np.float64), \n",
        "                      layer_name = 'conv2d_14'):\n",
        "    layer_output = layer_dict[layer_name].output\n",
        "    img_ascs = list()\n",
        "    for filter_index in range(layer_output.shape[3]):\n",
        "        # build a loss function that maximizes the activation\n",
        "        # of the nth filter of the layer considered\n",
        "        loss = K.mean(layer_output[:, :, :, filter_index])\n",
        "\n",
        "        # compute the gradient of the input picture wrt this loss\n",
        "        grads = K.gradients(loss, model.input)[0]\n",
        "\n",
        "        # normalization trick: we normalize the gradient\n",
        "        grads /= (K.sqrt(K.mean(K.square(grads))) + 1e-5)\n",
        "\n",
        "        # this function returns the loss and grads given the input picture\n",
        "        iterate = K.function([model.input], [loss, grads])\n",
        "\n",
        "        # step size for gradient ascent\n",
        "        step = 5.\n",
        "\n",
        "        img_asc = np.array(img)\n",
        "        # run gradient ascent for 20 steps\n",
        "        for i in range(20):\n",
        "            loss_value, grads_value = iterate([img_asc])\n",
        "            img_asc += grads_value * step\n",
        "\n",
        "        img_asc = img_asc[0]\n",
        "        img_ascs.append(deprocess_image(img_asc).reshape((28, 28)))\n",
        "        \n",
        "    if layer_output.shape[3] >= 35:\n",
        "        plot_x, plot_y = 6, 6\n",
        "    elif layer_output.shape[3] >= 23:\n",
        "        plot_x, plot_y = 4, 6\n",
        "    elif layer_output.shape[3] >= 11:\n",
        "        plot_x, plot_y = 2, 6\n",
        "    else:\n",
        "        plot_x, plot_y = 1, 2\n",
        "    fig, ax = plt.subplots(plot_x, plot_y, figsize = (12, 12))\n",
        "    ax[0, 0].imshow(img.reshape((28, 28)), cmap = 'gray')\n",
        "    ax[0, 0].set_title('Input image')\n",
        "    fig.suptitle('Input image and %s filters' % (layer_name,))\n",
        "    fig.tight_layout(pad = 0.3, rect = [0, 0, 0.9, 0.9])\n",
        "    for (x, y) in [(i, j) for i in range(plot_x) for j in range(plot_y)]:\n",
        "        if x == 0 and y == 0:\n",
        "            continue\n",
        "        ax[x, y].imshow(img_ascs[x * plot_y + y - 1], cmap = 'gray')\n",
        "        ax[x, y].set_title('filter %d' % (x * plot_y + y - 1))\n",
        "\n",
        "vis_img_in_filter()"
      ],
      "execution_count": 0,
      "outputs": [
        {
          "output_type": "error",
          "ename": "KeyError",
          "evalue": "ignored",
          "traceback": [
            "\u001b[0;31m---------------------------------------------------------------------------\u001b[0m",
            "\u001b[0;31mKeyError\u001b[0m                                  Traceback (most recent call last)",
            "\u001b[0;32m<ipython-input-87-19229f66b51a>\u001b[0m in \u001b[0;36m<module>\u001b[0;34m()\u001b[0m\n\u001b[1;32m     69\u001b[0m         \u001b[0max\u001b[0m\u001b[0;34m[\u001b[0m\u001b[0mx\u001b[0m\u001b[0;34m,\u001b[0m \u001b[0my\u001b[0m\u001b[0;34m]\u001b[0m\u001b[0;34m.\u001b[0m\u001b[0mset_title\u001b[0m\u001b[0;34m(\u001b[0m\u001b[0;34m'filter %d'\u001b[0m \u001b[0;34m%\u001b[0m \u001b[0;34m(\u001b[0m\u001b[0mx\u001b[0m \u001b[0;34m*\u001b[0m \u001b[0mplot_y\u001b[0m \u001b[0;34m+\u001b[0m \u001b[0my\u001b[0m \u001b[0;34m-\u001b[0m \u001b[0;36m1\u001b[0m\u001b[0;34m)\u001b[0m\u001b[0;34m)\u001b[0m\u001b[0;34m\u001b[0m\u001b[0;34m\u001b[0m\u001b[0m\n\u001b[1;32m     70\u001b[0m \u001b[0;34m\u001b[0m\u001b[0m\n\u001b[0;32m---> 71\u001b[0;31m \u001b[0mvis_img_in_filter\u001b[0m\u001b[0;34m(\u001b[0m\u001b[0;34m)\u001b[0m\u001b[0;34m\u001b[0m\u001b[0;34m\u001b[0m\u001b[0m\n\u001b[0m",
            "\u001b[0;32m<ipython-input-87-19229f66b51a>\u001b[0m in \u001b[0;36mvis_img_in_filter\u001b[0;34m(img, layer_name)\u001b[0m\n\u001b[1;32m     22\u001b[0m def vis_img_in_filter(img = np.array(X_train[2]).reshape((1, 28, 28, 1)).astype(np.float64), \n\u001b[1;32m     23\u001b[0m                       layer_name = 'conv2d_14'):\n\u001b[0;32m---> 24\u001b[0;31m     \u001b[0mlayer_output\u001b[0m \u001b[0;34m=\u001b[0m \u001b[0mlayer_dict\u001b[0m\u001b[0;34m[\u001b[0m\u001b[0mlayer_name\u001b[0m\u001b[0;34m]\u001b[0m\u001b[0;34m.\u001b[0m\u001b[0moutput\u001b[0m\u001b[0;34m\u001b[0m\u001b[0;34m\u001b[0m\u001b[0m\n\u001b[0m\u001b[1;32m     25\u001b[0m     \u001b[0mimg_ascs\u001b[0m \u001b[0;34m=\u001b[0m \u001b[0mlist\u001b[0m\u001b[0;34m(\u001b[0m\u001b[0;34m)\u001b[0m\u001b[0;34m\u001b[0m\u001b[0;34m\u001b[0m\u001b[0m\n\u001b[1;32m     26\u001b[0m     \u001b[0;32mfor\u001b[0m \u001b[0mfilter_index\u001b[0m \u001b[0;32min\u001b[0m \u001b[0mrange\u001b[0m\u001b[0;34m(\u001b[0m\u001b[0mlayer_output\u001b[0m\u001b[0;34m.\u001b[0m\u001b[0mshape\u001b[0m\u001b[0;34m[\u001b[0m\u001b[0;36m3\u001b[0m\u001b[0;34m]\u001b[0m\u001b[0;34m)\u001b[0m\u001b[0;34m:\u001b[0m\u001b[0;34m\u001b[0m\u001b[0;34m\u001b[0m\u001b[0m\n",
            "\u001b[0;31mKeyError\u001b[0m: 'conv2d_14'"
          ]
        }
      ]
    },
    {
      "cell_type": "code",
      "metadata": {
        "id": "9tvptcn8dxvp",
        "colab_type": "code",
        "colab": {}
      },
      "source": [
        ""
      ],
      "execution_count": 0,
      "outputs": []
    }
  ]
}